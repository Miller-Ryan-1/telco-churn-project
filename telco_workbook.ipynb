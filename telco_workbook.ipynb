{
 "cells": [
  {
   "cell_type": "markdown",
   "id": "034305a3",
   "metadata": {},
   "source": [
    "# This is the working notebook for the Telco Churn Project\n",
    "   ### *Draft work and details can be found here*\n",
    "   ### *Imports brought in as needed*"
   ]
  },
  {
   "cell_type": "markdown",
   "id": "93ca6a44",
   "metadata": {},
   "source": [
    "---"
   ]
  },
  {
   "cell_type": "markdown",
   "id": "f3fb08fe",
   "metadata": {},
   "source": [
    "## **ACQUIRE**\n",
    "- And examine overall data"
   ]
  },
  {
   "cell_type": "code",
   "execution_count": 9,
   "id": "b1c1b227",
   "metadata": {},
   "outputs": [],
   "source": [
    "#Common DS Libraries:\n",
    "import numpy as np\n",
    "import pandas as pd\n",
    "import matplotlib.pyplot as plt\n",
    "import seaborn as sns\n",
    "import scipy.stats as stats\n",
    "\n",
    "#Helper Functions\n",
    "from acquire import get_telco_data\n",
    "\n",
    "#Ignore Warnings\n",
    "import warnings\n",
    "warnings.filterwarnings('ignore')"
   ]
  },
  {
   "cell_type": "markdown",
   "id": "b073d8a7",
   "metadata": {},
   "source": [
    "Created SQL Query that joined the customers with the word definitions of the \"_id\" columns."
   ]
  },
  {
   "cell_type": "code",
   "execution_count": 10,
   "id": "dd193c69",
   "metadata": {},
   "outputs": [
    {
     "data": {
      "text/html": [
       "<div>\n",
       "<style scoped>\n",
       "    .dataframe tbody tr th:only-of-type {\n",
       "        vertical-align: middle;\n",
       "    }\n",
       "\n",
       "    .dataframe tbody tr th {\n",
       "        vertical-align: top;\n",
       "    }\n",
       "\n",
       "    .dataframe thead th {\n",
       "        text-align: right;\n",
       "    }\n",
       "</style>\n",
       "<table border=\"1\" class=\"dataframe\">\n",
       "  <thead>\n",
       "    <tr style=\"text-align: right;\">\n",
       "      <th></th>\n",
       "      <th>payment_type_id</th>\n",
       "      <th>internet_service_type_id</th>\n",
       "      <th>customer_id</th>\n",
       "      <th>contract_type_id</th>\n",
       "      <th>gender</th>\n",
       "      <th>senior_citizen</th>\n",
       "      <th>partner</th>\n",
       "      <th>dependents</th>\n",
       "      <th>tenure</th>\n",
       "      <th>phone_service</th>\n",
       "      <th>multiple_lines</th>\n",
       "      <th>online_security</th>\n",
       "      <th>online_backup</th>\n",
       "      <th>device_protection</th>\n",
       "      <th>tech_support</th>\n",
       "      <th>streaming_tv</th>\n",
       "      <th>streaming_movies</th>\n",
       "      <th>paperless_billing</th>\n",
       "      <th>monthly_charges</th>\n",
       "      <th>total_charges</th>\n",
       "      <th>churn</th>\n",
       "      <th>contract_type</th>\n",
       "      <th>signup_date</th>\n",
       "      <th>internet_service_type</th>\n",
       "      <th>payment_type</th>\n",
       "    </tr>\n",
       "  </thead>\n",
       "  <tbody>\n",
       "    <tr>\n",
       "      <th>0</th>\n",
       "      <td>2</td>\n",
       "      <td>1</td>\n",
       "      <td>0002-ORFBO</td>\n",
       "      <td>2</td>\n",
       "      <td>Female</td>\n",
       "      <td>0</td>\n",
       "      <td>Yes</td>\n",
       "      <td>Yes</td>\n",
       "      <td>9</td>\n",
       "      <td>Yes</td>\n",
       "      <td>No</td>\n",
       "      <td>No</td>\n",
       "      <td>Yes</td>\n",
       "      <td>No</td>\n",
       "      <td>Yes</td>\n",
       "      <td>Yes</td>\n",
       "      <td>No</td>\n",
       "      <td>Yes</td>\n",
       "      <td>65.6</td>\n",
       "      <td>593.3</td>\n",
       "      <td>No</td>\n",
       "      <td>One year</td>\n",
       "      <td>2021-04-21 18:07:34</td>\n",
       "      <td>DSL</td>\n",
       "      <td>Mailed check</td>\n",
       "    </tr>\n",
       "    <tr>\n",
       "      <th>1</th>\n",
       "      <td>2</td>\n",
       "      <td>1</td>\n",
       "      <td>0003-MKNFE</td>\n",
       "      <td>1</td>\n",
       "      <td>Male</td>\n",
       "      <td>0</td>\n",
       "      <td>No</td>\n",
       "      <td>No</td>\n",
       "      <td>9</td>\n",
       "      <td>Yes</td>\n",
       "      <td>Yes</td>\n",
       "      <td>No</td>\n",
       "      <td>No</td>\n",
       "      <td>No</td>\n",
       "      <td>No</td>\n",
       "      <td>No</td>\n",
       "      <td>Yes</td>\n",
       "      <td>No</td>\n",
       "      <td>59.9</td>\n",
       "      <td>542.4</td>\n",
       "      <td>No</td>\n",
       "      <td>Month-to-month</td>\n",
       "      <td>2021-04-21 18:07:34</td>\n",
       "      <td>DSL</td>\n",
       "      <td>Mailed check</td>\n",
       "    </tr>\n",
       "  </tbody>\n",
       "</table>\n",
       "</div>"
      ],
      "text/plain": [
       "   payment_type_id  internet_service_type_id customer_id  contract_type_id  \\\n",
       "0                2                         1  0002-ORFBO                 2   \n",
       "1                2                         1  0003-MKNFE                 1   \n",
       "\n",
       "   gender  senior_citizen partner dependents  tenure phone_service  \\\n",
       "0  Female               0     Yes        Yes       9           Yes   \n",
       "1    Male               0      No         No       9           Yes   \n",
       "\n",
       "  multiple_lines online_security online_backup device_protection tech_support  \\\n",
       "0             No              No           Yes                No          Yes   \n",
       "1            Yes              No            No                No           No   \n",
       "\n",
       "  streaming_tv streaming_movies paperless_billing  monthly_charges  \\\n",
       "0          Yes               No               Yes             65.6   \n",
       "1           No              Yes                No             59.9   \n",
       "\n",
       "  total_charges churn   contract_type          signup_date  \\\n",
       "0         593.3    No        One year  2021-04-21 18:07:34   \n",
       "1         542.4    No  Month-to-month  2021-04-21 18:07:34   \n",
       "\n",
       "  internet_service_type  payment_type  \n",
       "0                   DSL  Mailed check  \n",
       "1                   DSL  Mailed check  "
      ]
     },
     "execution_count": 10,
     "metadata": {},
     "output_type": "execute_result"
    }
   ],
   "source": [
    "df_raw = get_telco_data()\n",
    "pd.set_option(\"display.max_columns\", None)\n",
    "df_raw.head(2)"
   ]
  },
  {
   "cell_type": "code",
   "execution_count": 18,
   "id": "b8ba19ff",
   "metadata": {},
   "outputs": [
    {
     "name": "stdout",
     "output_type": "stream",
     "text": [
      "<class 'pandas.core.frame.DataFrame'>\n",
      "Int64Index: 7043 entries, 0 to 7042\n",
      "Data columns (total 25 columns):\n",
      " #   Column                    Non-Null Count  Dtype  \n",
      "---  ------                    --------------  -----  \n",
      " 0   payment_type_id           7043 non-null   int64  \n",
      " 1   internet_service_type_id  7043 non-null   int64  \n",
      " 2   customer_id               7043 non-null   object \n",
      " 3   contract_type_id          7043 non-null   int64  \n",
      " 4   gender                    7043 non-null   object \n",
      " 5   senior_citizen            7043 non-null   int64  \n",
      " 6   partner                   7043 non-null   object \n",
      " 7   dependents                7043 non-null   object \n",
      " 8   tenure                    7043 non-null   int64  \n",
      " 9   phone_service             7043 non-null   object \n",
      " 10  multiple_lines            7043 non-null   object \n",
      " 11  online_security           7043 non-null   object \n",
      " 12  online_backup             7043 non-null   object \n",
      " 13  device_protection         7043 non-null   object \n",
      " 14  tech_support              7043 non-null   object \n",
      " 15  streaming_tv              7043 non-null   object \n",
      " 16  streaming_movies          7043 non-null   object \n",
      " 17  paperless_billing         7043 non-null   object \n",
      " 18  monthly_charges           7043 non-null   float64\n",
      " 19  total_charges             7043 non-null   object \n",
      " 20  churn                     7043 non-null   object \n",
      " 21  contract_type             7043 non-null   object \n",
      " 22  signup_date               7043 non-null   object \n",
      " 23  internet_service_type     7043 non-null   object \n",
      " 24  payment_type              7043 non-null   object \n",
      "dtypes: float64(1), int64(5), object(19)\n",
      "memory usage: 1.4+ MB\n"
     ]
    }
   ],
   "source": [
    "df_raw.info()"
   ]
  },
  {
   "cell_type": "markdown",
   "id": "b81f6393",
   "metadata": {},
   "source": [
    "#### Upon investigation I noticed there were 11 records with zero tenure, who also had zero total charges.  I eliminated those records and converted total charges to a float."
   ]
  },
  {
   "cell_type": "code",
   "execution_count": null,
   "id": "297000e8",
   "metadata": {},
   "outputs": [],
   "source": [
    "# NOTE: Commented out since this is reproduced in the Prepare Step.\n",
    "\n",
    "# df_raw = df_raw[df_raw.total_charges != ' ']\n",
    "# df_raw.total_charges = df_raw.total_charges.astype('float')\n",
    "# df_raw.info()"
   ]
  },
  {
   "cell_type": "markdown",
   "id": "6fb2a4c8",
   "metadata": {},
   "source": [
    "#### Great - now no missing data!"
   ]
  },
  {
   "cell_type": "markdown",
   "id": "bea36d8e",
   "metadata": {},
   "source": [
    "#### Create seperate dfs with categorical and numerical only to get some general univariate info"
   ]
  },
  {
   "cell_type": "code",
   "execution_count": 11,
   "id": "c0c9e5d1",
   "metadata": {},
   "outputs": [],
   "source": [
    "#create df with cat columns only\n",
    "df_raw_cat = df_raw[[col for col in df_raw.columns if df_raw[col].dtype == 'object']]\n",
    "#remove customer id since it has lots of options\n",
    "df_raw_cat = df_raw_cat.drop(columns=['customer_id'])"
   ]
  },
  {
   "cell_type": "code",
   "execution_count": null,
   "id": "a091d0ae",
   "metadata": {},
   "outputs": [],
   "source": [
    "#value counts in cat columns\n",
    "for col in df_raw_cat:\n",
    "    print(df_raw_cat[col].value_counts())\n",
    "    print('-----')"
   ]
  },
  {
   "cell_type": "code",
   "execution_count": 12,
   "id": "b3bb5e7a",
   "metadata": {},
   "outputs": [
    {
     "data": {
      "text/html": [
       "<div>\n",
       "<style scoped>\n",
       "    .dataframe tbody tr th:only-of-type {\n",
       "        vertical-align: middle;\n",
       "    }\n",
       "\n",
       "    .dataframe tbody tr th {\n",
       "        vertical-align: top;\n",
       "    }\n",
       "\n",
       "    .dataframe thead th {\n",
       "        text-align: right;\n",
       "    }\n",
       "</style>\n",
       "<table border=\"1\" class=\"dataframe\">\n",
       "  <thead>\n",
       "    <tr style=\"text-align: right;\">\n",
       "      <th></th>\n",
       "      <th>payment_type_id</th>\n",
       "      <th>internet_service_type_id</th>\n",
       "      <th>contract_type_id</th>\n",
       "      <th>senior_citizen</th>\n",
       "      <th>tenure</th>\n",
       "      <th>monthly_charges</th>\n",
       "    </tr>\n",
       "  </thead>\n",
       "  <tbody>\n",
       "    <tr>\n",
       "      <th>0</th>\n",
       "      <td>2</td>\n",
       "      <td>1</td>\n",
       "      <td>2</td>\n",
       "      <td>0</td>\n",
       "      <td>9</td>\n",
       "      <td>65.6</td>\n",
       "    </tr>\n",
       "    <tr>\n",
       "      <th>1</th>\n",
       "      <td>2</td>\n",
       "      <td>1</td>\n",
       "      <td>1</td>\n",
       "      <td>0</td>\n",
       "      <td>9</td>\n",
       "      <td>59.9</td>\n",
       "    </tr>\n",
       "  </tbody>\n",
       "</table>\n",
       "</div>"
      ],
      "text/plain": [
       "   payment_type_id  internet_service_type_id  contract_type_id  \\\n",
       "0                2                         1                 2   \n",
       "1                2                         1                 1   \n",
       "\n",
       "   senior_citizen  tenure  monthly_charges  \n",
       "0               0       9             65.6  \n",
       "1               0       9             59.9  "
      ]
     },
     "execution_count": 12,
     "metadata": {},
     "output_type": "execute_result"
    }
   ],
   "source": [
    "#create df with only numerical columns\n",
    "df_raw_num = df_raw[[col for col in df_raw.columns if df_raw[col].dtype != 'object']]\n",
    "df_raw_num.head(2)"
   ]
  },
  {
   "cell_type": "code",
   "execution_count": 13,
   "id": "ea052552",
   "metadata": {},
   "outputs": [
    {
     "ename": "KeyError",
     "evalue": "\"['signup_date'] not found in axis\"",
     "output_type": "error",
     "traceback": [
      "\u001b[0;31m---------------------------------------------------------------------------\u001b[0m",
      "\u001b[0;31mKeyError\u001b[0m                                  Traceback (most recent call last)",
      "\u001b[0;32m/var/folders/nw/8yyyyp8n70vbplhdsylyqs8c0000gn/T/ipykernel_42052/3389711406.py\u001b[0m in \u001b[0;36m<module>\u001b[0;34m\u001b[0m\n\u001b[1;32m      1\u001b[0m \u001b[0;31m#remove '-id' and date columns\u001b[0m\u001b[0;34m\u001b[0m\u001b[0;34m\u001b[0m\u001b[0m\n\u001b[0;32m----> 2\u001b[0;31m \u001b[0mdf_raw_num\u001b[0m \u001b[0;34m=\u001b[0m \u001b[0mdf_raw_num\u001b[0m\u001b[0;34m.\u001b[0m\u001b[0mdrop\u001b[0m\u001b[0;34m(\u001b[0m\u001b[0mcolumns\u001b[0m \u001b[0;34m=\u001b[0m \u001b[0;34m[\u001b[0m\u001b[0;34m'payment_type_id'\u001b[0m\u001b[0;34m,\u001b[0m\u001b[0;34m'internet_service_type_id'\u001b[0m\u001b[0;34m,\u001b[0m\u001b[0;34m'contract_type_id'\u001b[0m\u001b[0;34m,\u001b[0m\u001b[0;34m'signup_date'\u001b[0m\u001b[0;34m]\u001b[0m\u001b[0;34m)\u001b[0m\u001b[0;34m\u001b[0m\u001b[0;34m\u001b[0m\u001b[0m\n\u001b[0m",
      "\u001b[0;32m/opt/homebrew/anaconda3/lib/python3.9/site-packages/pandas/util/_decorators.py\u001b[0m in \u001b[0;36mwrapper\u001b[0;34m(*args, **kwargs)\u001b[0m\n\u001b[1;32m    309\u001b[0m                     \u001b[0mstacklevel\u001b[0m\u001b[0;34m=\u001b[0m\u001b[0mstacklevel\u001b[0m\u001b[0;34m,\u001b[0m\u001b[0;34m\u001b[0m\u001b[0;34m\u001b[0m\u001b[0m\n\u001b[1;32m    310\u001b[0m                 )\n\u001b[0;32m--> 311\u001b[0;31m             \u001b[0;32mreturn\u001b[0m \u001b[0mfunc\u001b[0m\u001b[0;34m(\u001b[0m\u001b[0;34m*\u001b[0m\u001b[0margs\u001b[0m\u001b[0;34m,\u001b[0m \u001b[0;34m**\u001b[0m\u001b[0mkwargs\u001b[0m\u001b[0;34m)\u001b[0m\u001b[0;34m\u001b[0m\u001b[0;34m\u001b[0m\u001b[0m\n\u001b[0m\u001b[1;32m    312\u001b[0m \u001b[0;34m\u001b[0m\u001b[0m\n\u001b[1;32m    313\u001b[0m         \u001b[0;32mreturn\u001b[0m \u001b[0mwrapper\u001b[0m\u001b[0;34m\u001b[0m\u001b[0;34m\u001b[0m\u001b[0m\n",
      "\u001b[0;32m/opt/homebrew/anaconda3/lib/python3.9/site-packages/pandas/core/frame.py\u001b[0m in \u001b[0;36mdrop\u001b[0;34m(self, labels, axis, index, columns, level, inplace, errors)\u001b[0m\n\u001b[1;32m   4904\u001b[0m                 \u001b[0mweight\u001b[0m  \u001b[0;36m1.0\u001b[0m     \u001b[0;36m0.8\u001b[0m\u001b[0;34m\u001b[0m\u001b[0;34m\u001b[0m\u001b[0m\n\u001b[1;32m   4905\u001b[0m         \"\"\"\n\u001b[0;32m-> 4906\u001b[0;31m         return super().drop(\n\u001b[0m\u001b[1;32m   4907\u001b[0m             \u001b[0mlabels\u001b[0m\u001b[0;34m=\u001b[0m\u001b[0mlabels\u001b[0m\u001b[0;34m,\u001b[0m\u001b[0;34m\u001b[0m\u001b[0;34m\u001b[0m\u001b[0m\n\u001b[1;32m   4908\u001b[0m             \u001b[0maxis\u001b[0m\u001b[0;34m=\u001b[0m\u001b[0maxis\u001b[0m\u001b[0;34m,\u001b[0m\u001b[0;34m\u001b[0m\u001b[0;34m\u001b[0m\u001b[0m\n",
      "\u001b[0;32m/opt/homebrew/anaconda3/lib/python3.9/site-packages/pandas/core/generic.py\u001b[0m in \u001b[0;36mdrop\u001b[0;34m(self, labels, axis, index, columns, level, inplace, errors)\u001b[0m\n\u001b[1;32m   4148\u001b[0m         \u001b[0;32mfor\u001b[0m \u001b[0maxis\u001b[0m\u001b[0;34m,\u001b[0m \u001b[0mlabels\u001b[0m \u001b[0;32min\u001b[0m \u001b[0maxes\u001b[0m\u001b[0;34m.\u001b[0m\u001b[0mitems\u001b[0m\u001b[0;34m(\u001b[0m\u001b[0;34m)\u001b[0m\u001b[0;34m:\u001b[0m\u001b[0;34m\u001b[0m\u001b[0;34m\u001b[0m\u001b[0m\n\u001b[1;32m   4149\u001b[0m             \u001b[0;32mif\u001b[0m \u001b[0mlabels\u001b[0m \u001b[0;32mis\u001b[0m \u001b[0;32mnot\u001b[0m \u001b[0;32mNone\u001b[0m\u001b[0;34m:\u001b[0m\u001b[0;34m\u001b[0m\u001b[0;34m\u001b[0m\u001b[0m\n\u001b[0;32m-> 4150\u001b[0;31m                 \u001b[0mobj\u001b[0m \u001b[0;34m=\u001b[0m \u001b[0mobj\u001b[0m\u001b[0;34m.\u001b[0m\u001b[0m_drop_axis\u001b[0m\u001b[0;34m(\u001b[0m\u001b[0mlabels\u001b[0m\u001b[0;34m,\u001b[0m \u001b[0maxis\u001b[0m\u001b[0;34m,\u001b[0m \u001b[0mlevel\u001b[0m\u001b[0;34m=\u001b[0m\u001b[0mlevel\u001b[0m\u001b[0;34m,\u001b[0m \u001b[0merrors\u001b[0m\u001b[0;34m=\u001b[0m\u001b[0merrors\u001b[0m\u001b[0;34m)\u001b[0m\u001b[0;34m\u001b[0m\u001b[0;34m\u001b[0m\u001b[0m\n\u001b[0m\u001b[1;32m   4151\u001b[0m \u001b[0;34m\u001b[0m\u001b[0m\n\u001b[1;32m   4152\u001b[0m         \u001b[0;32mif\u001b[0m \u001b[0minplace\u001b[0m\u001b[0;34m:\u001b[0m\u001b[0;34m\u001b[0m\u001b[0;34m\u001b[0m\u001b[0m\n",
      "\u001b[0;32m/opt/homebrew/anaconda3/lib/python3.9/site-packages/pandas/core/generic.py\u001b[0m in \u001b[0;36m_drop_axis\u001b[0;34m(self, labels, axis, level, errors)\u001b[0m\n\u001b[1;32m   4183\u001b[0m                 \u001b[0mnew_axis\u001b[0m \u001b[0;34m=\u001b[0m \u001b[0maxis\u001b[0m\u001b[0;34m.\u001b[0m\u001b[0mdrop\u001b[0m\u001b[0;34m(\u001b[0m\u001b[0mlabels\u001b[0m\u001b[0;34m,\u001b[0m \u001b[0mlevel\u001b[0m\u001b[0;34m=\u001b[0m\u001b[0mlevel\u001b[0m\u001b[0;34m,\u001b[0m \u001b[0merrors\u001b[0m\u001b[0;34m=\u001b[0m\u001b[0merrors\u001b[0m\u001b[0;34m)\u001b[0m\u001b[0;34m\u001b[0m\u001b[0;34m\u001b[0m\u001b[0m\n\u001b[1;32m   4184\u001b[0m             \u001b[0;32melse\u001b[0m\u001b[0;34m:\u001b[0m\u001b[0;34m\u001b[0m\u001b[0;34m\u001b[0m\u001b[0m\n\u001b[0;32m-> 4185\u001b[0;31m                 \u001b[0mnew_axis\u001b[0m \u001b[0;34m=\u001b[0m \u001b[0maxis\u001b[0m\u001b[0;34m.\u001b[0m\u001b[0mdrop\u001b[0m\u001b[0;34m(\u001b[0m\u001b[0mlabels\u001b[0m\u001b[0;34m,\u001b[0m \u001b[0merrors\u001b[0m\u001b[0;34m=\u001b[0m\u001b[0merrors\u001b[0m\u001b[0;34m)\u001b[0m\u001b[0;34m\u001b[0m\u001b[0;34m\u001b[0m\u001b[0m\n\u001b[0m\u001b[1;32m   4186\u001b[0m             \u001b[0mresult\u001b[0m \u001b[0;34m=\u001b[0m \u001b[0mself\u001b[0m\u001b[0;34m.\u001b[0m\u001b[0mreindex\u001b[0m\u001b[0;34m(\u001b[0m\u001b[0;34m**\u001b[0m\u001b[0;34m{\u001b[0m\u001b[0maxis_name\u001b[0m\u001b[0;34m:\u001b[0m \u001b[0mnew_axis\u001b[0m\u001b[0;34m}\u001b[0m\u001b[0;34m)\u001b[0m\u001b[0;34m\u001b[0m\u001b[0;34m\u001b[0m\u001b[0m\n\u001b[1;32m   4187\u001b[0m \u001b[0;34m\u001b[0m\u001b[0m\n",
      "\u001b[0;32m/opt/homebrew/anaconda3/lib/python3.9/site-packages/pandas/core/indexes/base.py\u001b[0m in \u001b[0;36mdrop\u001b[0;34m(self, labels, errors)\u001b[0m\n\u001b[1;32m   6015\u001b[0m         \u001b[0;32mif\u001b[0m \u001b[0mmask\u001b[0m\u001b[0;34m.\u001b[0m\u001b[0many\u001b[0m\u001b[0;34m(\u001b[0m\u001b[0;34m)\u001b[0m\u001b[0;34m:\u001b[0m\u001b[0;34m\u001b[0m\u001b[0;34m\u001b[0m\u001b[0m\n\u001b[1;32m   6016\u001b[0m             \u001b[0;32mif\u001b[0m \u001b[0merrors\u001b[0m \u001b[0;34m!=\u001b[0m \u001b[0;34m\"ignore\"\u001b[0m\u001b[0;34m:\u001b[0m\u001b[0;34m\u001b[0m\u001b[0;34m\u001b[0m\u001b[0m\n\u001b[0;32m-> 6017\u001b[0;31m                 \u001b[0;32mraise\u001b[0m \u001b[0mKeyError\u001b[0m\u001b[0;34m(\u001b[0m\u001b[0;34mf\"{labels[mask]} not found in axis\"\u001b[0m\u001b[0;34m)\u001b[0m\u001b[0;34m\u001b[0m\u001b[0;34m\u001b[0m\u001b[0m\n\u001b[0m\u001b[1;32m   6018\u001b[0m             \u001b[0mindexer\u001b[0m \u001b[0;34m=\u001b[0m \u001b[0mindexer\u001b[0m\u001b[0;34m[\u001b[0m\u001b[0;34m~\u001b[0m\u001b[0mmask\u001b[0m\u001b[0;34m]\u001b[0m\u001b[0;34m\u001b[0m\u001b[0;34m\u001b[0m\u001b[0m\n\u001b[1;32m   6019\u001b[0m         \u001b[0;32mreturn\u001b[0m \u001b[0mself\u001b[0m\u001b[0;34m.\u001b[0m\u001b[0mdelete\u001b[0m\u001b[0;34m(\u001b[0m\u001b[0mindexer\u001b[0m\u001b[0;34m)\u001b[0m\u001b[0;34m\u001b[0m\u001b[0;34m\u001b[0m\u001b[0m\n",
      "\u001b[0;31mKeyError\u001b[0m: \"['signup_date'] not found in axis\""
     ]
    }
   ],
   "source": [
    "#remove '-id' and date columns\n",
    "df_raw_num = df_raw_num.drop(columns = ['payment_type_id','internet_service_type_id','contract_type_id','signup_date'])"
   ]
  },
  {
   "cell_type": "code",
   "execution_count": null,
   "id": "627bd5f8",
   "metadata": {},
   "outputs": [],
   "source": [
    "#get descriptive stats for each statistic\n",
    "df_raw_num.describe().T"
   ]
  },
  {
   "cell_type": "markdown",
   "id": "8f2a5cc1",
   "metadata": {},
   "source": [
    "## DATA SUMMARY\n",
    "- Univariate Analysis\n",
    "- Note unnecessary data/data to remove or clean in prep stage\n",
    "- Form initial hypothesees and plans"
   ]
  },
  {
   "cell_type": "code",
   "execution_count": null,
   "id": "24d51837",
   "metadata": {},
   "outputs": [],
   "source": [
    "from EDA_functions import explore_univariate"
   ]
  },
  {
   "cell_type": "code",
   "execution_count": null,
   "id": "8087206d",
   "metadata": {},
   "outputs": [],
   "source": [
    "#cat and num column names\n",
    "df_raw_cat_vars = [col for col in df_raw_cat.columns]\n",
    "df_raw_num_vars = [col for col in df_raw_num.columns]"
   ]
  },
  {
   "cell_type": "code",
   "execution_count": null,
   "id": "29d605dc",
   "metadata": {},
   "outputs": [],
   "source": [
    "explore_univariate(df_raw,df_raw_cat_vars,df_raw_num_vars)"
   ]
  },
  {
   "cell_type": "markdown",
   "id": "71170351",
   "metadata": {},
   "source": [
    "### Initial Dataset Analysis\n",
    "- Gender and partner status are about even\n",
    "- 2:1 Depedents (families) to none\n",
    "- Vast majority have phone service (9:1)\n",
    "- For those with phone lines, fairly even split between single and multiple\n",
    "- Only 30% have online security\n",
    "- 35% have online backup\n",
    "- 35% also have device protection (note: explore device vs battery backup)\n",
    "- Only 30% have tech support (price if signifigant)\n",
    "- Even split for streaming for those with internet service\n",
    "- Streaming movies mirrors streaming internet\n",
    "- 60/40 paperless vs paper billing\n",
    "- **26.59% overall churn rate**\n",
    "- 55% month to month, almost evenly split between one year and two year\n",
    "- 56/44 split between Fiber and DSL\n",
    "- 1/3 pay by auto check, the rest evenly distributed between mailed, bank transfer and cc\n",
    "- 16% senior citizens\n",
    "- Tenure short and long, mean 32 months (mean without top and bottom slightly higher than this mean)\n",
    "- Monthly charges normal with big low end mode\n",
    "\n",
    "### Data Prep Plan\n",
    "- Remove the 11 zero-tenure month records\n",
    "- Drop customer id\n",
    "- Drop all id categories (covered by actual categories which are just as wasy to encode)\n",
    "- Drop signup date (since all churn dates = 1/2022, all tenure captures this information)\n",
    "- Convert all yes/no to 1/0\n",
    "- Convert total charges to float\n",
    "\n",
    "### Questions to Examine\n",
    "- Is there any difference between genders and partner status with churn (will be impactful since they are so evently represented)\n",
    "- Any churn difference between families vs individuals?\n",
    "- What are the impacts of having online security, online backup, device protection, tech support, streaming movies and streaming internet have on churn?  How do these variables relate to one another?\n",
    "- What are the effects of internet service type, and how does that interplay with the above internet services (security, backup, etc. - multivariate analysis?)\n",
    "- Does being a senior have an impact?  If not a huge impact shouldn't be a big deal since they are such a small percentage of overall users.\n",
    "- Does payment method have an impact on churn?"
   ]
  },
  {
   "cell_type": "markdown",
   "id": "422fc8be",
   "metadata": {},
   "source": [
    "## PREPARE"
   ]
  },
  {
   "cell_type": "markdown",
   "id": "34ef75bb",
   "metadata": {},
   "source": [
    "Prepare from file informed by above analysis."
   ]
  },
  {
   "cell_type": "code",
   "execution_count": 14,
   "id": "0ef8a4b7",
   "metadata": {},
   "outputs": [
    {
     "data": {
      "text/html": [
       "<div>\n",
       "<style scoped>\n",
       "    .dataframe tbody tr th:only-of-type {\n",
       "        vertical-align: middle;\n",
       "    }\n",
       "\n",
       "    .dataframe tbody tr th {\n",
       "        vertical-align: top;\n",
       "    }\n",
       "\n",
       "    .dataframe thead th {\n",
       "        text-align: right;\n",
       "    }\n",
       "</style>\n",
       "<table border=\"1\" class=\"dataframe\">\n",
       "  <thead>\n",
       "    <tr style=\"text-align: right;\">\n",
       "      <th></th>\n",
       "      <th>customer_id</th>\n",
       "      <th>gender</th>\n",
       "      <th>senior_citizen</th>\n",
       "      <th>partner</th>\n",
       "      <th>dependents</th>\n",
       "      <th>tenure</th>\n",
       "      <th>phone_service</th>\n",
       "      <th>multiple_lines</th>\n",
       "      <th>online_security</th>\n",
       "      <th>online_backup</th>\n",
       "      <th>device_protection</th>\n",
       "      <th>tech_support</th>\n",
       "      <th>streaming_tv</th>\n",
       "      <th>streaming_movies</th>\n",
       "      <th>paperless_billing</th>\n",
       "      <th>monthly_charges</th>\n",
       "      <th>total_charges</th>\n",
       "      <th>churn</th>\n",
       "      <th>contract_type</th>\n",
       "      <th>internet_service_type</th>\n",
       "      <th>payment_type</th>\n",
       "      <th>gender_encoded</th>\n",
       "      <th>partner_encoded</th>\n",
       "      <th>dependents_encoded</th>\n",
       "      <th>phone_service_encoded</th>\n",
       "      <th>paperless_billing_encoded</th>\n",
       "      <th>churn_encoded</th>\n",
       "      <th>multiple_lines_No</th>\n",
       "      <th>multiple_lines_No phone service</th>\n",
       "      <th>multiple_lines_Yes</th>\n",
       "      <th>online_security_No</th>\n",
       "      <th>online_security_No internet service</th>\n",
       "      <th>online_security_Yes</th>\n",
       "      <th>online_backup_No</th>\n",
       "      <th>online_backup_No internet service</th>\n",
       "      <th>online_backup_Yes</th>\n",
       "      <th>device_protection_No</th>\n",
       "      <th>device_protection_No internet service</th>\n",
       "      <th>device_protection_Yes</th>\n",
       "      <th>tech_support_No</th>\n",
       "      <th>tech_support_No internet service</th>\n",
       "      <th>tech_support_Yes</th>\n",
       "      <th>streaming_tv_No</th>\n",
       "      <th>streaming_tv_No internet service</th>\n",
       "      <th>streaming_tv_Yes</th>\n",
       "      <th>streaming_movies_No</th>\n",
       "      <th>streaming_movies_No internet service</th>\n",
       "      <th>streaming_movies_Yes</th>\n",
       "      <th>contract_type_Month-to-month</th>\n",
       "      <th>contract_type_One year</th>\n",
       "      <th>contract_type_Two year</th>\n",
       "      <th>internet_service_type_DSL</th>\n",
       "      <th>internet_service_type_Fiber optic</th>\n",
       "      <th>internet_service_type_None</th>\n",
       "      <th>payment_type_Bank transfer (automatic)</th>\n",
       "      <th>payment_type_Credit card (automatic)</th>\n",
       "      <th>payment_type_Electronic check</th>\n",
       "      <th>payment_type_Mailed check</th>\n",
       "    </tr>\n",
       "  </thead>\n",
       "  <tbody>\n",
       "    <tr>\n",
       "      <th>0</th>\n",
       "      <td>0002-ORFBO</td>\n",
       "      <td>Female</td>\n",
       "      <td>0</td>\n",
       "      <td>Yes</td>\n",
       "      <td>Yes</td>\n",
       "      <td>9</td>\n",
       "      <td>Yes</td>\n",
       "      <td>No</td>\n",
       "      <td>No</td>\n",
       "      <td>Yes</td>\n",
       "      <td>No</td>\n",
       "      <td>Yes</td>\n",
       "      <td>Yes</td>\n",
       "      <td>No</td>\n",
       "      <td>Yes</td>\n",
       "      <td>65.6</td>\n",
       "      <td>593.3</td>\n",
       "      <td>No</td>\n",
       "      <td>One year</td>\n",
       "      <td>DSL</td>\n",
       "      <td>Mailed check</td>\n",
       "      <td>1</td>\n",
       "      <td>1</td>\n",
       "      <td>1</td>\n",
       "      <td>1</td>\n",
       "      <td>1</td>\n",
       "      <td>0</td>\n",
       "      <td>1</td>\n",
       "      <td>0</td>\n",
       "      <td>0</td>\n",
       "      <td>1</td>\n",
       "      <td>0</td>\n",
       "      <td>0</td>\n",
       "      <td>0</td>\n",
       "      <td>0</td>\n",
       "      <td>1</td>\n",
       "      <td>1</td>\n",
       "      <td>0</td>\n",
       "      <td>0</td>\n",
       "      <td>0</td>\n",
       "      <td>0</td>\n",
       "      <td>1</td>\n",
       "      <td>0</td>\n",
       "      <td>0</td>\n",
       "      <td>1</td>\n",
       "      <td>1</td>\n",
       "      <td>0</td>\n",
       "      <td>0</td>\n",
       "      <td>0</td>\n",
       "      <td>1</td>\n",
       "      <td>0</td>\n",
       "      <td>1</td>\n",
       "      <td>0</td>\n",
       "      <td>0</td>\n",
       "      <td>0</td>\n",
       "      <td>0</td>\n",
       "      <td>0</td>\n",
       "      <td>1</td>\n",
       "    </tr>\n",
       "    <tr>\n",
       "      <th>1</th>\n",
       "      <td>0003-MKNFE</td>\n",
       "      <td>Male</td>\n",
       "      <td>0</td>\n",
       "      <td>No</td>\n",
       "      <td>No</td>\n",
       "      <td>9</td>\n",
       "      <td>Yes</td>\n",
       "      <td>Yes</td>\n",
       "      <td>No</td>\n",
       "      <td>No</td>\n",
       "      <td>No</td>\n",
       "      <td>No</td>\n",
       "      <td>No</td>\n",
       "      <td>Yes</td>\n",
       "      <td>No</td>\n",
       "      <td>59.9</td>\n",
       "      <td>542.4</td>\n",
       "      <td>No</td>\n",
       "      <td>Month-to-month</td>\n",
       "      <td>DSL</td>\n",
       "      <td>Mailed check</td>\n",
       "      <td>0</td>\n",
       "      <td>0</td>\n",
       "      <td>0</td>\n",
       "      <td>1</td>\n",
       "      <td>0</td>\n",
       "      <td>0</td>\n",
       "      <td>0</td>\n",
       "      <td>0</td>\n",
       "      <td>1</td>\n",
       "      <td>1</td>\n",
       "      <td>0</td>\n",
       "      <td>0</td>\n",
       "      <td>1</td>\n",
       "      <td>0</td>\n",
       "      <td>0</td>\n",
       "      <td>1</td>\n",
       "      <td>0</td>\n",
       "      <td>0</td>\n",
       "      <td>1</td>\n",
       "      <td>0</td>\n",
       "      <td>0</td>\n",
       "      <td>1</td>\n",
       "      <td>0</td>\n",
       "      <td>0</td>\n",
       "      <td>0</td>\n",
       "      <td>0</td>\n",
       "      <td>1</td>\n",
       "      <td>1</td>\n",
       "      <td>0</td>\n",
       "      <td>0</td>\n",
       "      <td>1</td>\n",
       "      <td>0</td>\n",
       "      <td>0</td>\n",
       "      <td>0</td>\n",
       "      <td>0</td>\n",
       "      <td>0</td>\n",
       "      <td>1</td>\n",
       "    </tr>\n",
       "  </tbody>\n",
       "</table>\n",
       "</div>"
      ],
      "text/plain": [
       "  customer_id  gender  senior_citizen partner dependents  tenure  \\\n",
       "0  0002-ORFBO  Female               0     Yes        Yes       9   \n",
       "1  0003-MKNFE    Male               0      No         No       9   \n",
       "\n",
       "  phone_service multiple_lines online_security online_backup  \\\n",
       "0           Yes             No              No           Yes   \n",
       "1           Yes            Yes              No            No   \n",
       "\n",
       "  device_protection tech_support streaming_tv streaming_movies  \\\n",
       "0                No          Yes          Yes               No   \n",
       "1                No           No           No              Yes   \n",
       "\n",
       "  paperless_billing  monthly_charges  total_charges churn   contract_type  \\\n",
       "0               Yes             65.6          593.3    No        One year   \n",
       "1                No             59.9          542.4    No  Month-to-month   \n",
       "\n",
       "  internet_service_type  payment_type  gender_encoded  partner_encoded  \\\n",
       "0                   DSL  Mailed check               1                1   \n",
       "1                   DSL  Mailed check               0                0   \n",
       "\n",
       "   dependents_encoded  phone_service_encoded  paperless_billing_encoded  \\\n",
       "0                   1                      1                          1   \n",
       "1                   0                      1                          0   \n",
       "\n",
       "   churn_encoded  multiple_lines_No  multiple_lines_No phone service  \\\n",
       "0              0                  1                                0   \n",
       "1              0                  0                                0   \n",
       "\n",
       "   multiple_lines_Yes  online_security_No  \\\n",
       "0                   0                   1   \n",
       "1                   1                   1   \n",
       "\n",
       "   online_security_No internet service  online_security_Yes  online_backup_No  \\\n",
       "0                                    0                    0                 0   \n",
       "1                                    0                    0                 1   \n",
       "\n",
       "   online_backup_No internet service  online_backup_Yes  device_protection_No  \\\n",
       "0                                  0                  1                     1   \n",
       "1                                  0                  0                     1   \n",
       "\n",
       "   device_protection_No internet service  device_protection_Yes  \\\n",
       "0                                      0                      0   \n",
       "1                                      0                      0   \n",
       "\n",
       "   tech_support_No  tech_support_No internet service  tech_support_Yes  \\\n",
       "0                0                                 0                 1   \n",
       "1                1                                 0                 0   \n",
       "\n",
       "   streaming_tv_No  streaming_tv_No internet service  streaming_tv_Yes  \\\n",
       "0                0                                 0                 1   \n",
       "1                1                                 0                 0   \n",
       "\n",
       "   streaming_movies_No  streaming_movies_No internet service  \\\n",
       "0                    1                                     0   \n",
       "1                    0                                     0   \n",
       "\n",
       "   streaming_movies_Yes  contract_type_Month-to-month  contract_type_One year  \\\n",
       "0                     0                             0                       1   \n",
       "1                     1                             1                       0   \n",
       "\n",
       "   contract_type_Two year  internet_service_type_DSL  \\\n",
       "0                       0                          1   \n",
       "1                       0                          1   \n",
       "\n",
       "   internet_service_type_Fiber optic  internet_service_type_None  \\\n",
       "0                                  0                           0   \n",
       "1                                  0                           0   \n",
       "\n",
       "   payment_type_Bank transfer (automatic)  \\\n",
       "0                                       0   \n",
       "1                                       0   \n",
       "\n",
       "   payment_type_Credit card (automatic)  payment_type_Electronic check  \\\n",
       "0                                     0                              0   \n",
       "1                                     0                              0   \n",
       "\n",
       "   payment_type_Mailed check  \n",
       "0                          1  \n",
       "1                          1  "
      ]
     },
     "execution_count": 14,
     "metadata": {},
     "output_type": "execute_result"
    }
   ],
   "source": [
    "from prepare import prep_telco\n",
    "df = prep_telco(df_raw)\n",
    "df.head(2)"
   ]
  },
  {
   "cell_type": "markdown",
   "id": "b2d8f56b",
   "metadata": {},
   "source": [
    "### Split into train, validate and test datasets according to 56% Train, 24% Validate, 20% Test (random seed = 123)"
   ]
  },
  {
   "cell_type": "code",
   "execution_count": 15,
   "id": "e4ed7140",
   "metadata": {},
   "outputs": [
    {
     "name": "stdout",
     "output_type": "stream",
     "text": [
      "Train = 56.0% | Validate = 24.0% | Test = 20.0%\n"
     ]
    },
    {
     "data": {
      "text/html": [
       "<div>\n",
       "<style scoped>\n",
       "    .dataframe tbody tr th:only-of-type {\n",
       "        vertical-align: middle;\n",
       "    }\n",
       "\n",
       "    .dataframe tbody tr th {\n",
       "        vertical-align: top;\n",
       "    }\n",
       "\n",
       "    .dataframe thead th {\n",
       "        text-align: right;\n",
       "    }\n",
       "</style>\n",
       "<table border=\"1\" class=\"dataframe\">\n",
       "  <thead>\n",
       "    <tr style=\"text-align: right;\">\n",
       "      <th></th>\n",
       "      <th>customer_id</th>\n",
       "      <th>gender</th>\n",
       "      <th>senior_citizen</th>\n",
       "      <th>partner</th>\n",
       "      <th>dependents</th>\n",
       "      <th>tenure</th>\n",
       "      <th>phone_service</th>\n",
       "      <th>multiple_lines</th>\n",
       "      <th>online_security</th>\n",
       "      <th>online_backup</th>\n",
       "      <th>device_protection</th>\n",
       "      <th>tech_support</th>\n",
       "      <th>streaming_tv</th>\n",
       "      <th>streaming_movies</th>\n",
       "      <th>paperless_billing</th>\n",
       "      <th>monthly_charges</th>\n",
       "      <th>total_charges</th>\n",
       "      <th>churn</th>\n",
       "      <th>contract_type</th>\n",
       "      <th>internet_service_type</th>\n",
       "      <th>payment_type</th>\n",
       "      <th>gender_encoded</th>\n",
       "      <th>partner_encoded</th>\n",
       "      <th>dependents_encoded</th>\n",
       "      <th>phone_service_encoded</th>\n",
       "      <th>paperless_billing_encoded</th>\n",
       "      <th>churn_encoded</th>\n",
       "      <th>multiple_lines_No</th>\n",
       "      <th>multiple_lines_No phone service</th>\n",
       "      <th>multiple_lines_Yes</th>\n",
       "      <th>online_security_No</th>\n",
       "      <th>online_security_No internet service</th>\n",
       "      <th>online_security_Yes</th>\n",
       "      <th>online_backup_No</th>\n",
       "      <th>online_backup_No internet service</th>\n",
       "      <th>online_backup_Yes</th>\n",
       "      <th>device_protection_No</th>\n",
       "      <th>device_protection_No internet service</th>\n",
       "      <th>device_protection_Yes</th>\n",
       "      <th>tech_support_No</th>\n",
       "      <th>tech_support_No internet service</th>\n",
       "      <th>tech_support_Yes</th>\n",
       "      <th>streaming_tv_No</th>\n",
       "      <th>streaming_tv_No internet service</th>\n",
       "      <th>streaming_tv_Yes</th>\n",
       "      <th>streaming_movies_No</th>\n",
       "      <th>streaming_movies_No internet service</th>\n",
       "      <th>streaming_movies_Yes</th>\n",
       "      <th>contract_type_Month-to-month</th>\n",
       "      <th>contract_type_One year</th>\n",
       "      <th>contract_type_Two year</th>\n",
       "      <th>internet_service_type_DSL</th>\n",
       "      <th>internet_service_type_Fiber optic</th>\n",
       "      <th>internet_service_type_None</th>\n",
       "      <th>payment_type_Bank transfer (automatic)</th>\n",
       "      <th>payment_type_Credit card (automatic)</th>\n",
       "      <th>payment_type_Electronic check</th>\n",
       "      <th>payment_type_Mailed check</th>\n",
       "    </tr>\n",
       "  </thead>\n",
       "  <tbody>\n",
       "    <tr>\n",
       "      <th>2419</th>\n",
       "      <td>3462-BJQQA</td>\n",
       "      <td>Female</td>\n",
       "      <td>0</td>\n",
       "      <td>No</td>\n",
       "      <td>No</td>\n",
       "      <td>6</td>\n",
       "      <td>Yes</td>\n",
       "      <td>Yes</td>\n",
       "      <td>No</td>\n",
       "      <td>Yes</td>\n",
       "      <td>No</td>\n",
       "      <td>No</td>\n",
       "      <td>Yes</td>\n",
       "      <td>No</td>\n",
       "      <td>Yes</td>\n",
       "      <td>89.75</td>\n",
       "      <td>552.65</td>\n",
       "      <td>No</td>\n",
       "      <td>Month-to-month</td>\n",
       "      <td>Fiber optic</td>\n",
       "      <td>Electronic check</td>\n",
       "      <td>1</td>\n",
       "      <td>0</td>\n",
       "      <td>0</td>\n",
       "      <td>1</td>\n",
       "      <td>1</td>\n",
       "      <td>0</td>\n",
       "      <td>0</td>\n",
       "      <td>0</td>\n",
       "      <td>1</td>\n",
       "      <td>1</td>\n",
       "      <td>0</td>\n",
       "      <td>0</td>\n",
       "      <td>0</td>\n",
       "      <td>0</td>\n",
       "      <td>1</td>\n",
       "      <td>1</td>\n",
       "      <td>0</td>\n",
       "      <td>0</td>\n",
       "      <td>1</td>\n",
       "      <td>0</td>\n",
       "      <td>0</td>\n",
       "      <td>0</td>\n",
       "      <td>0</td>\n",
       "      <td>1</td>\n",
       "      <td>1</td>\n",
       "      <td>0</td>\n",
       "      <td>0</td>\n",
       "      <td>1</td>\n",
       "      <td>0</td>\n",
       "      <td>0</td>\n",
       "      <td>0</td>\n",
       "      <td>1</td>\n",
       "      <td>0</td>\n",
       "      <td>0</td>\n",
       "      <td>0</td>\n",
       "      <td>1</td>\n",
       "      <td>0</td>\n",
       "    </tr>\n",
       "    <tr>\n",
       "      <th>4747</th>\n",
       "      <td>6688-UZPWD</td>\n",
       "      <td>Female</td>\n",
       "      <td>0</td>\n",
       "      <td>Yes</td>\n",
       "      <td>No</td>\n",
       "      <td>11</td>\n",
       "      <td>Yes</td>\n",
       "      <td>Yes</td>\n",
       "      <td>No</td>\n",
       "      <td>Yes</td>\n",
       "      <td>No</td>\n",
       "      <td>No</td>\n",
       "      <td>Yes</td>\n",
       "      <td>Yes</td>\n",
       "      <td>Yes</td>\n",
       "      <td>102.00</td>\n",
       "      <td>1145.35</td>\n",
       "      <td>Yes</td>\n",
       "      <td>Month-to-month</td>\n",
       "      <td>Fiber optic</td>\n",
       "      <td>Electronic check</td>\n",
       "      <td>1</td>\n",
       "      <td>1</td>\n",
       "      <td>0</td>\n",
       "      <td>1</td>\n",
       "      <td>1</td>\n",
       "      <td>1</td>\n",
       "      <td>0</td>\n",
       "      <td>0</td>\n",
       "      <td>1</td>\n",
       "      <td>1</td>\n",
       "      <td>0</td>\n",
       "      <td>0</td>\n",
       "      <td>0</td>\n",
       "      <td>0</td>\n",
       "      <td>1</td>\n",
       "      <td>1</td>\n",
       "      <td>0</td>\n",
       "      <td>0</td>\n",
       "      <td>1</td>\n",
       "      <td>0</td>\n",
       "      <td>0</td>\n",
       "      <td>0</td>\n",
       "      <td>0</td>\n",
       "      <td>1</td>\n",
       "      <td>0</td>\n",
       "      <td>0</td>\n",
       "      <td>1</td>\n",
       "      <td>1</td>\n",
       "      <td>0</td>\n",
       "      <td>0</td>\n",
       "      <td>0</td>\n",
       "      <td>1</td>\n",
       "      <td>0</td>\n",
       "      <td>0</td>\n",
       "      <td>0</td>\n",
       "      <td>1</td>\n",
       "      <td>0</td>\n",
       "    </tr>\n",
       "  </tbody>\n",
       "</table>\n",
       "</div>"
      ],
      "text/plain": [
       "     customer_id  gender  senior_citizen partner dependents  tenure  \\\n",
       "2419  3462-BJQQA  Female               0      No         No       6   \n",
       "4747  6688-UZPWD  Female               0     Yes         No      11   \n",
       "\n",
       "     phone_service multiple_lines online_security online_backup  \\\n",
       "2419           Yes            Yes              No           Yes   \n",
       "4747           Yes            Yes              No           Yes   \n",
       "\n",
       "     device_protection tech_support streaming_tv streaming_movies  \\\n",
       "2419                No           No          Yes               No   \n",
       "4747                No           No          Yes              Yes   \n",
       "\n",
       "     paperless_billing  monthly_charges  total_charges churn   contract_type  \\\n",
       "2419               Yes            89.75         552.65    No  Month-to-month   \n",
       "4747               Yes           102.00        1145.35   Yes  Month-to-month   \n",
       "\n",
       "     internet_service_type      payment_type  gender_encoded  partner_encoded  \\\n",
       "2419           Fiber optic  Electronic check               1                0   \n",
       "4747           Fiber optic  Electronic check               1                1   \n",
       "\n",
       "      dependents_encoded  phone_service_encoded  paperless_billing_encoded  \\\n",
       "2419                   0                      1                          1   \n",
       "4747                   0                      1                          1   \n",
       "\n",
       "      churn_encoded  multiple_lines_No  multiple_lines_No phone service  \\\n",
       "2419              0                  0                                0   \n",
       "4747              1                  0                                0   \n",
       "\n",
       "      multiple_lines_Yes  online_security_No  \\\n",
       "2419                   1                   1   \n",
       "4747                   1                   1   \n",
       "\n",
       "      online_security_No internet service  online_security_Yes  \\\n",
       "2419                                    0                    0   \n",
       "4747                                    0                    0   \n",
       "\n",
       "      online_backup_No  online_backup_No internet service  online_backup_Yes  \\\n",
       "2419                 0                                  0                  1   \n",
       "4747                 0                                  0                  1   \n",
       "\n",
       "      device_protection_No  device_protection_No internet service  \\\n",
       "2419                     1                                      0   \n",
       "4747                     1                                      0   \n",
       "\n",
       "      device_protection_Yes  tech_support_No  \\\n",
       "2419                      0                1   \n",
       "4747                      0                1   \n",
       "\n",
       "      tech_support_No internet service  tech_support_Yes  streaming_tv_No  \\\n",
       "2419                                 0                 0                0   \n",
       "4747                                 0                 0                0   \n",
       "\n",
       "      streaming_tv_No internet service  streaming_tv_Yes  streaming_movies_No  \\\n",
       "2419                                 0                 1                    1   \n",
       "4747                                 0                 1                    0   \n",
       "\n",
       "      streaming_movies_No internet service  streaming_movies_Yes  \\\n",
       "2419                                     0                     0   \n",
       "4747                                     0                     1   \n",
       "\n",
       "      contract_type_Month-to-month  contract_type_One year  \\\n",
       "2419                             1                       0   \n",
       "4747                             1                       0   \n",
       "\n",
       "      contract_type_Two year  internet_service_type_DSL  \\\n",
       "2419                       0                          0   \n",
       "4747                       0                          0   \n",
       "\n",
       "      internet_service_type_Fiber optic  internet_service_type_None  \\\n",
       "2419                                  1                           0   \n",
       "4747                                  1                           0   \n",
       "\n",
       "      payment_type_Bank transfer (automatic)  \\\n",
       "2419                                       0   \n",
       "4747                                       0   \n",
       "\n",
       "      payment_type_Credit card (automatic)  payment_type_Electronic check  \\\n",
       "2419                                     0                              1   \n",
       "4747                                     0                              1   \n",
       "\n",
       "      payment_type_Mailed check  \n",
       "2419                          0  \n",
       "4747                          0  "
      ]
     },
     "execution_count": 15,
     "metadata": {},
     "output_type": "execute_result"
    }
   ],
   "source": [
    "from splitter import splitter\n",
    "df_train, df_validate, df_test = splitter(df, target = 'churn')\n",
    "df_train.sample(2)"
   ]
  },
  {
   "cell_type": "markdown",
   "id": "6b97614b",
   "metadata": {},
   "source": [
    "## Bivariate Analysis"
   ]
  },
  {
   "cell_type": "code",
   "execution_count": null,
   "id": "ad79628f",
   "metadata": {},
   "outputs": [],
   "source": [
    "df_train.info()"
   ]
  },
  {
   "cell_type": "markdown",
   "id": "4779dc98",
   "metadata": {},
   "source": [
    "### Create categorical and numerical lists.  For numerical remove all encoded variables."
   ]
  },
  {
   "cell_type": "code",
   "execution_count": 16,
   "id": "a95915be",
   "metadata": {},
   "outputs": [],
   "source": [
    "from EDA_functions import explore_bivariate\n",
    "df_train_cat_vars = [col for col in df_train.columns if df_train[col].dtype == 'object']\n",
    "df_train_num_vars = [col for col in df_train.columns if df_train[col].dtype != 'object'][1:4]"
   ]
  },
  {
   "cell_type": "code",
   "execution_count": 17,
   "id": "9cd9c528",
   "metadata": {},
   "outputs": [
    {
     "data": {
      "text/plain": [
       "(['customer_id',\n",
       "  'gender',\n",
       "  'partner',\n",
       "  'dependents',\n",
       "  'phone_service',\n",
       "  'multiple_lines',\n",
       "  'online_security',\n",
       "  'online_backup',\n",
       "  'device_protection',\n",
       "  'tech_support',\n",
       "  'streaming_tv',\n",
       "  'streaming_movies',\n",
       "  'paperless_billing',\n",
       "  'churn',\n",
       "  'contract_type',\n",
       "  'internet_service_type',\n",
       "  'payment_type'],\n",
       " ['tenure', 'monthly_charges', 'total_charges'])"
      ]
     },
     "execution_count": 17,
     "metadata": {},
     "output_type": "execute_result"
    }
   ],
   "source": [
    "df_train_cat_vars, df_train_num_vars"
   ]
  },
  {
   "cell_type": "markdown",
   "id": "0445a581",
   "metadata": {},
   "source": [
    "### Most variables are categorical, so using a bivariate exploration function to look at all of them vs churn to see which have an impact on churn.  "
   ]
  },
  {
   "cell_type": "code",
   "execution_count": null,
   "id": "812ae463",
   "metadata": {},
   "outputs": [],
   "source": [
    "from EDA_functions import explore_bivariate"
   ]
  },
  {
   "cell_type": "markdown",
   "id": "319dd5a4",
   "metadata": {},
   "source": [
    "#### Senior citizen was already 'encoded' as an integer and therefore did not appear in the categorical list pulled from the dataframe info, so seperately did this one:"
   ]
  },
  {
   "cell_type": "code",
   "execution_count": 8,
   "id": "c7539abd",
   "metadata": {},
   "outputs": [
    {
     "name": "stdout",
     "output_type": "stream",
     "text": [
      "customer_id \n",
      "_____________________\n",
      "\n",
      "     chi2   p-value  degrees of freedom\n",
      "0  3937.0  0.492507                3936\n",
      "\n",
      "observed:\n",
      " churn_encoded     0     1   All\n",
      "customer_id                    \n",
      "0002-ORFBO        1     0     1\n",
      "0003-MKNFE        1     0     1\n",
      "0004-TLHLJ        0     1     1\n",
      "0011-IGKFF        0     1     1\n",
      "0013-EXCHZ        0     1     1\n",
      "...             ...   ...   ...\n",
      "9979-RGMZT        1     0     1\n",
      "9986-BONCE        0     1     1\n",
      "9992-RRAMN        0     1     1\n",
      "9993-LHIEB        1     0     1\n",
      "All            2891  1046  3937\n",
      "\n",
      "[3938 rows x 3 columns]\n",
      "\n",
      "expected:\n",
      "              0         1\n",
      "0     0.734315  0.265685\n",
      "1     0.734315  0.265685\n",
      "2     0.734315  0.265685\n",
      "3     0.734315  0.265685\n",
      "4     0.734315  0.265685\n",
      "...        ...       ...\n",
      "3932  0.734315  0.265685\n",
      "3933  0.734315  0.265685\n",
      "3934  0.734315  0.265685\n",
      "3935  0.734315  0.265685\n",
      "3936  0.734315  0.265685\n",
      "\n",
      "[3937 rows x 2 columns]\n"
     ]
    },
    {
     "data": {
      "image/png": "[encoded data removed]",
      "text/plain": [
       "<Figure size 144x144 with 1 Axes>"
      ]
     },
     "metadata": {
      "needs_background": "light"
     },
     "output_type": "display_data"
    },
    {
     "name": "stdout",
     "output_type": "stream",
     "text": [
      "\n",
      "_____________________\n",
      "\n",
      "gender \n",
      "_____________________\n",
      "\n",
      "   chi2  p-value  degrees of freedom\n",
      "0   0.0      1.0                   1\n",
      "\n",
      "observed:\n",
      " churn_encoded     0     1   All\n",
      "gender                         \n",
      "Female         1440   521  1961\n",
      "Male           1451   525  1976\n",
      "All            2891  1046  3937\n",
      "\n",
      "expected:\n",
      "              0           1\n",
      "0  1439.992634  521.007366\n",
      "1  1451.007366  524.992634\n"
     ]
    },
    {
     "data": {
      "image/png": "[encoded data removed]",
      "text/plain": [
       "<Figure size 144x144 with 1 Axes>"
      ]
     },
     "metadata": {
      "needs_background": "light"
     },
     "output_type": "display_data"
    },
    {
     "name": "stdout",
     "output_type": "stream",
     "text": [
      "\n",
      "_____________________\n",
      "\n",
      "partner \n",
      "_____________________\n",
      "\n",
      "        chi2       p-value  degrees of freedom\n",
      "0  80.089329  3.578599e-19                   1\n",
      "\n",
      "observed:\n",
      " churn_encoded     0     1   All\n",
      "partner                        \n",
      "No             1364   663  2027\n",
      "Yes            1527   383  1910\n",
      "All            2891  1046  3937\n",
      "\n",
      "expected:\n",
      "              0           1\n",
      "0  1488.457455  538.542545\n",
      "1  1402.542545  507.457455\n"
     ]
    },
    {
     "data": {
      "image/png": "[encoded data removed]",
      "text/plain": [
       "<Figure size 144x144 with 1 Axes>"
      ]
     },
     "metadata": {
      "needs_background": "light"
     },
     "output_type": "display_data"
    },
    {
     "name": "stdout",
     "output_type": "stream",
     "text": [
      "\n",
      "_____________________\n",
      "\n",
      "dependents \n",
      "_____________________\n",
      "\n",
      "         chi2       p-value  degrees of freedom\n",
      "0  104.542502  1.538574e-24                   1\n",
      "\n",
      "observed:\n",
      " churn_encoded     0     1   All\n",
      "dependents                     \n",
      "No             1885   860  2745\n",
      "Yes            1006   186  1192\n",
      "All            2891  1046  3937\n",
      "\n",
      "expected:\n",
      "              0           1\n",
      "0  2015.695961  729.304039\n",
      "1   875.304039  316.695961\n"
     ]
    },
    {
     "data": {
      "image/png": "[encoded data removed]",
      "text/plain": [
       "<Figure size 144x144 with 1 Axes>"
      ]
     },
     "metadata": {
      "needs_background": "light"
     },
     "output_type": "display_data"
    },
    {
     "name": "stdout",
     "output_type": "stream",
     "text": [
      "\n",
      "_____________________\n",
      "\n",
      "phone_service \n",
      "_____________________\n",
      "\n",
      "       chi2   p-value  degrees of freedom\n",
      "0  0.876869  0.349061                   1\n",
      "\n",
      "observed:\n",
      " churn_encoded     0     1   All\n",
      "phone_service                  \n",
      "No              282    91   373\n",
      "Yes            2609   955  3564\n",
      "All            2891  1046  3937\n",
      "\n",
      "expected:\n",
      "             0          1\n",
      "0   273.89967   99.10033\n",
      "1  2617.10033  946.89967\n"
     ]
    },
    {
     "data": {
      "image/png": "[encoded data removed]",
      "text/plain": [
       "<Figure size 144x144 with 1 Axes>"
      ]
     },
     "metadata": {
      "needs_background": "light"
     },
     "output_type": "display_data"
    },
    {
     "name": "stdout",
     "output_type": "stream",
     "text": [
      "\n",
      "_____________________\n",
      "\n",
      "multiple_lines \n",
      "_____________________\n",
      "\n",
      "        chi2   p-value  degrees of freedom\n",
      "0  11.077952  0.003931                   2\n",
      "\n",
      "observed:\n",
      " churn_encoded        0     1   All\n",
      "multiple_lines                    \n",
      "No                1429   466  1895\n",
      "No phone service   282    91   373\n",
      "Yes               1180   489  1669\n",
      "All               2891  1046  3937\n",
      "\n",
      "expected:\n",
      "              0           1\n",
      "0  1391.527813  503.472187\n",
      "1   273.899670   99.100330\n",
      "2  1225.572517  443.427483\n"
     ]
    },
    {
     "data": {
      "image/png": "[encoded data removed]",
      "text/plain": [
       "<Figure size 144x144 with 1 Axes>"
      ]
     },
     "metadata": {
      "needs_background": "light"
     },
     "output_type": "display_data"
    },
    {
     "name": "stdout",
     "output_type": "stream",
     "text": [
      "\n",
      "_____________________\n",
      "\n",
      "online_security \n",
      "_____________________\n",
      "\n",
      "         chi2        p-value  degrees of freedom\n",
      "0  510.520615  1.386300e-111                   2\n",
      "\n",
      "observed:\n",
      " churn_encoded           0     1   All\n",
      "online_security                      \n",
      "No                   1099   819  1918\n",
      "No internet service   803    64   867\n",
      "Yes                   989   163  1152\n",
      "All                  2891  1046  3937\n",
      "\n",
      "expected:\n",
      "              0           1\n",
      "0  1408.417069  509.582931\n",
      "1   636.651511  230.348489\n",
      "2   845.931420  306.068580\n"
     ]
    },
    {
     "data": {
      "image/png": "[encoded data removed]",
      "text/plain": [
       "<Figure size 144x144 with 1 Axes>"
      ]
     },
     "metadata": {
      "needs_background": "light"
     },
     "output_type": "display_data"
    },
    {
     "name": "stdout",
     "output_type": "stream",
     "text": [
      "\n",
      "_____________________\n",
      "\n",
      "online_backup \n",
      "_____________________\n",
      "\n",
      "         chi2       p-value  degrees of freedom\n",
      "0  326.015433  1.609342e-71                   2\n",
      "\n",
      "observed:\n",
      " churn_encoded           0     1   All\n",
      "online_backup                        \n",
      "No                   1023   674  1697\n",
      "No internet service   803    64   867\n",
      "Yes                  1065   308  1373\n",
      "All                  2891  1046  3937\n",
      "\n",
      "expected:\n",
      "              0           1\n",
      "0  1246.133350  450.866650\n",
      "1   636.651511  230.348489\n",
      "2  1008.215138  364.784862\n"
     ]
    },
    {
     "data": {
      "image/png": "[encoded data removed]",
      "text/plain": [
       "<Figure size 144x144 with 1 Axes>"
      ]
     },
     "metadata": {
      "needs_background": "light"
     },
     "output_type": "display_data"
    },
    {
     "name": "stdout",
     "output_type": "stream",
     "text": [
      "\n",
      "_____________________\n",
      "\n",
      "device_protection \n",
      "_____________________\n",
      "\n",
      "         chi2       p-value  degrees of freedom\n",
      "0  314.354955  5.478843e-69                   2\n",
      "\n",
      "observed:\n",
      " churn_encoded           0     1   All\n",
      "device_protection                    \n",
      "No                   1027   666  1693\n",
      "No internet service   803    64   867\n",
      "Yes                  1061   316  1377\n",
      "All                  2891  1046  3937\n",
      "\n",
      "expected:\n",
      "              0           1\n",
      "0  1243.196088  449.803912\n",
      "1   636.651511  230.348489\n",
      "2  1011.152400  365.847600\n"
     ]
    },
    {
     "data": {
      "image/png": "[encoded data removed]",
      "text/plain": [
       "<Figure size 144x144 with 1 Axes>"
      ]
     },
     "metadata": {
      "needs_background": "light"
     },
     "output_type": "display_data"
    },
    {
     "name": "stdout",
     "output_type": "stream",
     "text": [
      "\n",
      "_____________________\n",
      "\n",
      "tech_support \n",
      "_____________________\n",
      "\n",
      "         chi2        p-value  degrees of freedom\n",
      "0  460.871935  8.373959e-101                   2\n",
      "\n",
      "observed:\n",
      " churn_encoded           0     1   All\n",
      "tech_support                         \n",
      "No                   1126   805  1931\n",
      "No internet service   803    64   867\n",
      "Yes                   962   177  1139\n",
      "All                  2891  1046  3937\n",
      "\n",
      "expected:\n",
      "              0           1\n",
      "0  1417.963170  513.036830\n",
      "1   636.651511  230.348489\n",
      "2   836.385319  302.614681\n"
     ]
    },
    {
     "data": {
      "image/png": "[encoded data removed]",
      "text/plain": [
       "<Figure size 144x144 with 1 Axes>"
      ]
     },
     "metadata": {
      "needs_background": "light"
     },
     "output_type": "display_data"
    },
    {
     "name": "stdout",
     "output_type": "stream",
     "text": [
      "\n",
      "_____________________\n",
      "\n",
      "streaming_tv \n",
      "_____________________\n",
      "\n",
      "         chi2       p-value  degrees of freedom\n",
      "0  226.175317  7.702893e-50                   2\n",
      "\n",
      "observed:\n",
      " churn_encoded           0     1   All\n",
      "streaming_tv                         \n",
      "No                   1004   545  1549\n",
      "No internet service   803    64   867\n",
      "Yes                  1084   437  1521\n",
      "All                  2891  1046  3937\n",
      "\n",
      "expected:\n",
      "              0           1\n",
      "0  1137.454661  411.545339\n",
      "1   636.651511  230.348489\n",
      "2  1116.893828  404.106172\n"
     ]
    },
    {
     "data": {
      "image/png": "[encoded data removed]",
      "text/plain": [
       "<Figure size 144x144 with 1 Axes>"
      ]
     },
     "metadata": {
      "needs_background": "light"
     },
     "output_type": "display_data"
    },
    {
     "name": "stdout",
     "output_type": "stream",
     "text": [
      "\n",
      "_____________________\n",
      "\n",
      "streaming_movies \n",
      "_____________________\n",
      "\n",
      "         chi2       p-value  degrees of freedom\n",
      "0  220.438256  1.356566e-48                   2\n",
      "\n",
      "observed:\n",
      " churn_encoded           0     1   All\n",
      "streaming_movies                     \n",
      "No                   1000   529  1529\n",
      "No internet service   803    64   867\n",
      "Yes                  1088   453  1541\n",
      "All                  2891  1046  3937\n",
      "\n",
      "expected:\n",
      "              0           1\n",
      "0  1122.768352  406.231648\n",
      "1   636.651511  230.348489\n",
      "2  1131.580137  409.419863\n"
     ]
    },
    {
     "data": {
      "image/png": "[encoded data removed]",
      "text/plain": [
       "<Figure size 144x144 with 1 Axes>"
      ]
     },
     "metadata": {
      "needs_background": "light"
     },
     "output_type": "display_data"
    },
    {
     "name": "stdout",
     "output_type": "stream",
     "text": [
      "\n",
      "_____________________\n",
      "\n",
      "paperless_billing \n",
      "_____________________\n",
      "\n",
      "         chi2       p-value  degrees of freedom\n",
      "0  141.364215  1.339372e-32                   1\n",
      "\n",
      "observed:\n",
      " churn_encoded         0     1   All\n",
      "paperless_billing                  \n",
      "No                 1347   266  1613\n",
      "Yes                1544   780  2324\n",
      "All                2891  1046  3937\n",
      "\n",
      "expected:\n",
      "              0           1\n",
      "0  1184.450851  428.549149\n",
      "1  1706.549149  617.450851\n"
     ]
    },
    {
     "data": {
      "image/png": "[encoded data removed]",
      "text/plain": [
       "<Figure size 144x144 with 1 Axes>"
      ]
     },
     "metadata": {
      "needs_background": "light"
     },
     "output_type": "display_data"
    },
    {
     "name": "stdout",
     "output_type": "stream",
     "text": [
      "\n",
      "_____________________\n",
      "\n",
      "churn \n",
      "_____________________\n",
      "\n",
      "          chi2  p-value  degrees of freedom\n",
      "0  3931.875993      0.0                   1\n",
      "\n",
      "observed:\n",
      " churn_encoded     0     1   All\n",
      "churn                          \n",
      "No             2891     0  2891\n",
      "Yes               0  1046  1046\n",
      "All            2891  1046  3937\n",
      "\n",
      "expected:\n",
      "             0          1\n",
      "0  2122.90602  768.09398\n",
      "1   768.09398  277.90602\n"
     ]
    },
    {
     "data": {
      "image/png": "[encoded data removed]",
      "text/plain": [
       "<Figure size 144x144 with 1 Axes>"
      ]
     },
     "metadata": {
      "needs_background": "light"
     },
     "output_type": "display_data"
    },
    {
     "name": "stdout",
     "output_type": "stream",
     "text": [
      "\n",
      "_____________________\n",
      "\n",
      "contract_type \n",
      "_____________________\n",
      "\n",
      "         chi2        p-value  degrees of freedom\n",
      "0  664.657249  4.693667e-145                   2\n",
      "\n",
      "observed:\n",
      " churn_encoded      0     1   All\n",
      "contract_type                   \n",
      "Month-to-month  1238   927  2165\n",
      "One year         726    89   815\n",
      "Two year         927    30   957\n",
      "All             2891  1046  3937\n",
      "\n",
      "expected:\n",
      "              0           1\n",
      "0  1589.792990  575.207010\n",
      "1   598.467107  216.532893\n",
      "2   702.739903  254.260097\n"
     ]
    },
    {
     "data": {
      "image/png": "[encoded data removed]",
      "text/plain": [
       "<Figure size 144x144 with 1 Axes>"
      ]
     },
     "metadata": {
      "needs_background": "light"
     },
     "output_type": "display_data"
    },
    {
     "name": "stdout",
     "output_type": "stream",
     "text": [
      "\n",
      "_____________________\n",
      "\n",
      "internet_service_type \n",
      "_____________________\n",
      "\n",
      "         chi2       p-value  degrees of freedom\n",
      "0  439.766148  3.206227e-96                   2\n",
      "\n",
      "observed:\n",
      " churn_encoded             0     1   All\n",
      "internet_service_type                  \n",
      "DSL                    1101   247  1348\n",
      "Fiber optic             987   735  1722\n",
      "None                    803    64   867\n",
      "All                    2891  1046  3937\n",
      "\n",
      "expected:\n",
      "              0           1\n",
      "0   989.857252  358.142748\n",
      "1  1264.491237  457.508763\n",
      "2   636.651511  230.348489\n"
     ]
    },
    {
     "data": {
      "image/png": "[encoded data removed]",
      "text/plain": [
       "<Figure size 144x144 with 1 Axes>"
      ]
     },
     "metadata": {
      "needs_background": "light"
     },
     "output_type": "display_data"
    },
    {
     "name": "stdout",
     "output_type": "stream",
     "text": [
      "\n",
      "_____________________\n",
      "\n",
      "payment_type \n",
      "_____________________\n",
      "\n",
      "         chi2       p-value  degrees of freedom\n",
      "0  338.485229  4.643588e-73                   3\n",
      "\n",
      "observed:\n",
      " churn_encoded                 0     1   All\n",
      "payment_type                               \n",
      "Bank transfer (automatic)   713   149   862\n",
      "Credit card (automatic)     750   145   895\n",
      "Electronic check            708   581  1289\n",
      "Mailed check                720   171   891\n",
      "All                        2891  1046  3937\n",
      "\n",
      "expected:\n",
      "             0           1\n",
      "0  632.979934  229.020066\n",
      "1  657.212344  237.787656\n",
      "2  946.532639  342.467361\n",
      "3  654.275083  236.724917\n"
     ]
    },
    {
     "data": {
      "image/png": "[encoded data removed]",
      "text/plain": [
       "<Figure size 144x144 with 1 Axes>"
      ]
     },
     "metadata": {
      "needs_background": "light"
     },
     "output_type": "display_data"
    },
    {
     "name": "stdout",
     "output_type": "stream",
     "text": [
      "\n",
      "_____________________\n",
      "\n",
      "tenure \n",
      "____________________\n",
      "\n"
     ]
    },
    {
     "data": {
      "image/png": "[encoded data removed]",
      "text/plain": [
       "<Figure size 288x288 with 1 Axes>"
      ]
     },
     "metadata": {
      "needs_background": "light"
     },
     "output_type": "display_data"
    },
    {
     "name": "stdout",
     "output_type": "stream",
     "text": [
      "                count       mean        std  min   25%   50%   75%   max\n",
      "churn_encoded                                                           \n",
      "0              2891.0  38.003459  24.177715  1.0  15.0  39.0  61.0  72.0\n",
      "1              1046.0  18.325048  19.960763  1.0   2.0  10.0  31.0  72.0 \n",
      "\n",
      "\n",
      "Mann-Whitney Test:\n",
      " MannwhitneyuResult(statistic=2237485.5, pvalue=1.7462087268198276e-117)\n",
      "\n",
      "____________________\n",
      "\n",
      "monthly_charges \n",
      "____________________\n",
      "\n"
     ]
    },
    {
     "data": {
      "image/png": "[encoded data removed]",
      "text/plain": [
       "<Figure size 288x288 with 1 Axes>"
      ]
     },
     "metadata": {
      "needs_background": "light"
     },
     "output_type": "display_data"
    },
    {
     "name": "stdout",
     "output_type": "stream",
     "text": [
      "                count       mean        std    min     25%    50%      75%  \\\n",
      "churn_encoded                                                                \n",
      "0              2891.0  61.218091  31.349533  18.25  25.000  64.50  89.0250   \n",
      "1              1046.0  74.719216  24.593969  18.85  59.525  79.85  94.2375   \n",
      "\n",
      "                  max  \n",
      "churn_encoded          \n",
      "0              118.65  \n",
      "1              118.35   \n",
      "\n",
      "\n",
      "Mann-Whitney Test:\n",
      " MannwhitneyuResult(statistic=1140707.5, pvalue=4.601429737222539e-32)\n",
      "\n",
      "____________________\n",
      "\n",
      "total_charges \n",
      "____________________\n",
      "\n"
     ]
    },
    {
     "data": {
      "image/png": "[encoded data removed]",
      "text/plain": [
       "<Figure size 288x288 with 1 Axes>"
      ]
     },
     "metadata": {
      "needs_background": "light"
     },
     "output_type": "display_data"
    },
    {
     "name": "stdout",
     "output_type": "stream",
     "text": [
      "                count         mean          std    min       25%       50%  \\\n",
      "churn_encoded                                                                \n",
      "0              2891.0  2583.071792  2343.182641  18.85  574.4250  1718.200   \n",
      "1              1046.0  1580.769742  1934.641968  18.85  116.5875   699.475   \n",
      "\n",
      "                    75%     max  \n",
      "churn_encoded                    \n",
      "0              4369.550  8594.4  \n",
      "1              2514.025  8109.8   \n",
      "\n",
      "\n",
      "Mann-Whitney Test:\n",
      " MannwhitneyuResult(statistic=1962317.5, pvalue=2.3468103663029577e-46)\n",
      "\n",
      "____________________\n",
      "\n"
     ]
    }
   ],
   "source": [
    "explore_bivariate(df_train,'churn_encoded',df_train_cat_vars,df_train_num_vars)"
   ]
  },
  {
   "cell_type": "markdown",
   "id": "773ece5d",
   "metadata": {},
   "source": [
    "Followed up using this technique to determine impact of cat variables, as well as determine their independence (or lack thereof) from each other:"
   ]
  },
  {
   "cell_type": "code",
   "execution_count": null,
   "id": "07286a50",
   "metadata": {},
   "outputs": [],
   "source": [
    "import itertools\n",
    "from scipy import stats"
   ]
  },
  {
   "cell_type": "code",
   "execution_count": null,
   "id": "0832068e",
   "metadata": {},
   "outputs": [],
   "source": [
    "explore_bivariate(df_train,'churn_encoded',['senior_citizen'])#,df_train_num_vars)"
   ]
  },
  {
   "cell_type": "code",
   "execution_count": null,
   "id": "d2f784e9",
   "metadata": {},
   "outputs": [],
   "source": [
    "combinations = list(itertools.combinations(df_train_cat_vars, 2))\n",
    "combinations"
   ]
  },
  {
   "cell_type": "code",
   "execution_count": null,
   "id": "b9a43da5",
   "metadata": {},
   "outputs": [],
   "source": [
    "alpha = 0.05\n",
    "outcomes = []\n",
    "for combination in combinations:\n",
    "    outcome = {}\n",
    "    outcome[\"column1\"] = combination[0]\n",
    "    outcome[\"column2\"] = combination[1]\n",
    "\n",
    "    observed = pd.crosstab(df[combination[0]], df[combination[1]])\n",
    "    \n",
    "    chi2, p, degf, expected = stats.chi2_contingency(observed)\n",
    "    \n",
    "    outcome[\"p\"] = p\n",
    "    \n",
    "    if p < alpha:\n",
    "        outcome[\"reject_null\"] = True\n",
    "    else:\n",
    "        outcome[\"reject_null\"] = False\n",
    "    \n",
    "    outcomes.append(outcome)\n",
    "\n",
    "pd.set_option('display.max_rows', None)    \n",
    "pd.DataFrame(outcomes)\n"
   ]
  },
  {
   "cell_type": "markdown",
   "id": "fdb082a9",
   "metadata": {},
   "source": [
    "#### Plot to examine the relationship between tenure, monthly charges and churn."
   ]
  },
  {
   "cell_type": "markdown",
   "id": "1d4b5f1a",
   "metadata": {},
   "source": [
    "### Comparing monthly charges to churn using t-tests:"
   ]
  },
  {
   "cell_type": "markdown",
   "id": "6f4771c4",
   "metadata": {},
   "source": [
    "Seperate train set data into churned and not churned dfs"
   ]
  },
  {
   "cell_type": "code",
   "execution_count": null,
   "id": "2c93a7d5",
   "metadata": {},
   "outputs": [],
   "source": [
    "train_churn_sample = df_train[df_train.churn == 'Yes']\n",
    "train_nochurn_sample = df_train[df_train.churn == 'No']"
   ]
  },
  {
   "cell_type": "markdown",
   "id": "a98000d7",
   "metadata": {},
   "source": [
    "One sided t-test against population mean:"
   ]
  },
  {
   "cell_type": "code",
   "execution_count": null,
   "id": "2b04c9f7",
   "metadata": {},
   "outputs": [],
   "source": [
    "overall_mean = df_train.monthly_charges.mean()\n",
    "\n",
    "t, p = stats.ttest_1samp(train_churn_sample.monthly_charges, overall_mean)\n",
    "t, p/2"
   ]
  },
  {
   "cell_type": "markdown",
   "id": "d409208d",
   "metadata": {},
   "source": [
    "One sided t-test comparing churn vs non-churned means:"
   ]
  },
  {
   "cell_type": "code",
   "execution_count": null,
   "id": "3b3ca8da",
   "metadata": {},
   "outputs": [],
   "source": [
    "t, p = stats.ttest_ind(train_churn_sample.monthly_charges, train_nochurn_sample.monthly_charges, equal_var=False)\n",
    "t, p / 2"
   ]
  },
  {
   "cell_type": "markdown",
   "id": "02f41ea1",
   "metadata": {},
   "source": [
    "NOTE: Total charges not particularly useful because those who churn quickly have low total charges, but so do those who have long tenure of just phone services."
   ]
  },
  {
   "cell_type": "markdown",
   "id": "ec2ebbc1",
   "metadata": {},
   "source": [
    "### Both t-test support the alternative hypothesis, that monthly charges do effect churn negatively."
   ]
  },
  {
   "cell_type": "markdown",
   "id": "f263cbcc",
   "metadata": {},
   "source": [
    "##### As such, let's do some dataframe grouping of different variables to see how they effect cost."
   ]
  },
  {
   "cell_type": "markdown",
   "id": "e015a9e0",
   "metadata": {},
   "source": [
    "## Multivariate Analysis"
   ]
  },
  {
   "cell_type": "code",
   "execution_count": null,
   "id": "0c66877c",
   "metadata": {},
   "outputs": [],
   "source": [
    "sns.relplot(data=df_train, x='tenure', y='monthly_charges', hue='churn')"
   ]
  },
  {
   "cell_type": "code",
   "execution_count": null,
   "id": "4af17dfb",
   "metadata": {},
   "outputs": [],
   "source": [
    "for col in df_train_cat_vars:\n",
    "    plt.figure(figsize=(12, 6))\n",
    "    sns.boxplot(data=df_train, x=col,y='monthly_charges',hue='churn')\n",
    "    plt.show()"
   ]
  },
  {
   "cell_type": "code",
   "execution_count": 6,
   "id": "f3e111e5",
   "metadata": {},
   "outputs": [
    {
     "name": "stdout",
     "output_type": "stream",
     "text": [
      "<class 'pandas.core.frame.DataFrame'>\n",
      "Int64Index: 3937 entries, 5919 to 4192\n",
      "Data columns (total 58 columns):\n",
      " #   Column                                  Non-Null Count  Dtype  \n",
      "---  ------                                  --------------  -----  \n",
      " 0   customer_id                             3937 non-null   object \n",
      " 1   gender                                  3937 non-null   object \n",
      " 2   senior_citizen                          3937 non-null   int64  \n",
      " 3   partner                                 3937 non-null   object \n",
      " 4   dependents                              3937 non-null   object \n",
      " 5   tenure                                  3937 non-null   int64  \n",
      " 6   phone_service                           3937 non-null   object \n",
      " 7   multiple_lines                          3937 non-null   object \n",
      " 8   online_security                         3937 non-null   object \n",
      " 9   online_backup                           3937 non-null   object \n",
      " 10  device_protection                       3937 non-null   object \n",
      " 11  tech_support                            3937 non-null   object \n",
      " 12  streaming_tv                            3937 non-null   object \n",
      " 13  streaming_movies                        3937 non-null   object \n",
      " 14  paperless_billing                       3937 non-null   object \n",
      " 15  monthly_charges                         3937 non-null   float64\n",
      " 16  total_charges                           3937 non-null   float64\n",
      " 17  churn                                   3937 non-null   object \n",
      " 18  contract_type                           3937 non-null   object \n",
      " 19  internet_service_type                   3937 non-null   object \n",
      " 20  payment_type                            3937 non-null   object \n",
      " 21  gender_encoded                          3937 non-null   int64  \n",
      " 22  partner_encoded                         3937 non-null   int64  \n",
      " 23  dependents_encoded                      3937 non-null   int64  \n",
      " 24  phone_service_encoded                   3937 non-null   int64  \n",
      " 25  paperless_billing_encoded               3937 non-null   int64  \n",
      " 26  churn_encoded                           3937 non-null   int64  \n",
      " 27  multiple_lines_No                       3937 non-null   uint8  \n",
      " 28  multiple_lines_No phone service         3937 non-null   uint8  \n",
      " 29  multiple_lines_Yes                      3937 non-null   uint8  \n",
      " 30  online_security_No                      3937 non-null   uint8  \n",
      " 31  online_security_No internet service     3937 non-null   uint8  \n",
      " 32  online_security_Yes                     3937 non-null   uint8  \n",
      " 33  online_backup_No                        3937 non-null   uint8  \n",
      " 34  online_backup_No internet service       3937 non-null   uint8  \n",
      " 35  online_backup_Yes                       3937 non-null   uint8  \n",
      " 36  device_protection_No                    3937 non-null   uint8  \n",
      " 37  device_protection_No internet service   3937 non-null   uint8  \n",
      " 38  device_protection_Yes                   3937 non-null   uint8  \n",
      " 39  tech_support_No                         3937 non-null   uint8  \n",
      " 40  tech_support_No internet service        3937 non-null   uint8  \n",
      " 41  tech_support_Yes                        3937 non-null   uint8  \n",
      " 42  streaming_tv_No                         3937 non-null   uint8  \n",
      " 43  streaming_tv_No internet service        3937 non-null   uint8  \n",
      " 44  streaming_tv_Yes                        3937 non-null   uint8  \n",
      " 45  streaming_movies_No                     3937 non-null   uint8  \n",
      " 46  streaming_movies_No internet service    3937 non-null   uint8  \n",
      " 47  streaming_movies_Yes                    3937 non-null   uint8  \n",
      " 48  contract_type_Month-to-month            3937 non-null   uint8  \n",
      " 49  contract_type_One year                  3937 non-null   uint8  \n",
      " 50  contract_type_Two year                  3937 non-null   uint8  \n",
      " 51  internet_service_type_DSL               3937 non-null   uint8  \n",
      " 52  internet_service_type_Fiber optic       3937 non-null   uint8  \n",
      " 53  internet_service_type_None              3937 non-null   uint8  \n",
      " 54  payment_type_Bank transfer (automatic)  3937 non-null   uint8  \n",
      " 55  payment_type_Credit card (automatic)    3937 non-null   uint8  \n",
      " 56  payment_type_Electronic check           3937 non-null   uint8  \n",
      " 57  payment_type_Mailed check               3937 non-null   uint8  \n",
      "dtypes: float64(2), int64(8), object(17), uint8(31)\n",
      "memory usage: 980.4+ KB\n"
     ]
    }
   ],
   "source": [
    "df_train."
   ]
  },
  {
   "cell_type": "markdown",
   "id": "b7dd0f0e",
   "metadata": {},
   "source": [
    "# Classification Analysis"
   ]
  },
  {
   "cell_type": "code",
   "execution_count": null,
   "id": "04edaf5e",
   "metadata": {},
   "outputs": [],
   "source": [
    "# drop all non-numeric columns except churn, but drop churn_encoded as well\n",
    "columns_to_drop = ['gender', 'partner', 'dependents',\n",
    "       'phone_service', 'multiple_lines', 'online_security', 'online_backup',\n",
    "       'device_protection', 'tech_support', 'streaming_tv', 'streaming_movies',\n",
    "       'paperless_billing', 'contract_type', 'internet_service_type', 'payment_type','churn_encoded']"
   ]
  },
  {
   "cell_type": "code",
   "execution_count": null,
   "id": "b0ec22e0",
   "metadata": {},
   "outputs": [],
   "source": [
    "df_train_encoded = df_train.drop(columns=columns_to_drop)\n",
    "df_validate_encoded = df_validate.drop(columns=columns_to_drop)\n",
    "df_test_encoded = df_test.drop(columns=columns_to_drop)"
   ]
  },
  {
   "cell_type": "code",
   "execution_count": null,
   "id": "774b4543",
   "metadata": {},
   "outputs": [],
   "source": [
    "df_train_encode"
   ]
  },
  {
   "cell_type": "code",
   "execution_count": null,
   "id": "bad7d74e",
   "metadata": {},
   "outputs": [],
   "source": [
    "# Split dataframes into target and non-target sets for modeling\n",
    "X_train = df_train_encoded.drop(columns=[\"churn\"])\n",
    "y_train = df_train_encoded.churn\n",
    "\n",
    "X_validate = df_validate_encoded.drop(columns=[\"churn\"])\n",
    "y_validate = df_validate_encoded.churn\n",
    "\n",
    "X_test = df_test_encoded.drop(columns=[\"churn\"])\n",
    "y_test = df_test_encoded.churn"
   ]
  },
  {
   "cell_type": "code",
   "execution_count": null,
   "id": "f8472390",
   "metadata": {},
   "outputs": [],
   "source": [
    "# run baseline\n",
    "baseline = y_train.mode()\n",
    "# Produce a boolean array with True representing a match between the baseline prediction and reality\n",
    "matches_baseline_prediction = (y_train == baseline.values[0])\n",
    "baseline_accuracy = matches_baseline_prediction.mean()\n",
    "print(f\"Baseline accuracy: {round(baseline_accuracy, 2)}\")"
   ]
  },
  {
   "cell_type": "markdown",
   "id": "b438e88f",
   "metadata": {},
   "source": [
    "#### Models must have higher accuracy than 73% to be considered."
   ]
  },
  {
   "cell_type": "code",
   "execution_count": null,
   "id": "a78a4174",
   "metadata": {},
   "outputs": [],
   "source": [
    "from matrix_result import matrix_result_2d\n",
    "from sklearn.tree import DecisionTreeClassifier\n",
    "from sklearn.metrics import confusion_matrix"
   ]
  },
  {
   "cell_type": "markdown",
   "id": "3b62c837",
   "metadata": {},
   "source": [
    "### Decision Tree Hyperparameter Tuning"
   ]
  },
  {
   "cell_type": "code",
   "execution_count": null,
   "id": "f3af94fb",
   "metadata": {},
   "outputs": [],
   "source": [
    "# decision tree with multiple hypers\n",
    "# create, fit, loop, sneak in validate and subtract\n",
    "tree_metrics = []\n",
    "\n",
    "for i in range(1,10):\n",
    "    tree = DecisionTreeClassifier(max_depth=i, random_state=123)\n",
    "\n",
    "# Fit the model (on train)\n",
    "    tree = tree.fit(X_train, y_train)\n",
    "    in_sample = tree.score(X_train, y_train)\n",
    "    y_pred = tree.predict(X_train)\n",
    "\n",
    "# Add to matrix_results_2d which is the report we'll look at\n",
    "    result = pd.DataFrame(confusion_matrix(y_train, y_pred))\n",
    "    results = matrix_result_2d(result)\n",
    "    results['depth'] = i\n",
    "\n",
    "# Do a quick validation fit and score just to see how the change in each hyperparameter effects overfit\n",
    "    out_of_sample = tree.score(X_validate, y_validate)\n",
    "    results['fit'] = in_sample - out_of_sample\n",
    "    \n",
    "    tree_metrics.append(results)\n",
    "\n",
    "df_tree_results = pd.DataFrame(tree_metrics).round(2).set_index('depth')\n",
    "df_tree_results"
   ]
  },
  {
   "cell_type": "markdown",
   "id": "5a00005b",
   "metadata": {},
   "source": [
    "#### Depth = 4 optimizes for fit and precision."
   ]
  },
  {
   "cell_type": "markdown",
   "id": "d66505ce",
   "metadata": {},
   "source": [
    "### Random Forest Hyperparameter Tuning"
   ]
  },
  {
   "cell_type": "code",
   "execution_count": null,
   "id": "4c608d78",
   "metadata": {},
   "outputs": [],
   "source": [
    "# random forest with multiple hypers\n",
    "from sklearn.ensemble import RandomForestClassifier\n",
    "forest_metrics = []\n",
    "\n",
    "for i in range(1,10):\n",
    "    for j in range(10,0,-1):\n",
    "        forest = RandomForestClassifier(max_depth=i, min_samples_leaf = j,random_state=123)\n",
    "    \n",
    "    # Fit the model (on train)\n",
    "        forest = forest.fit(X_train, y_train)\n",
    "        in_sample = forest.score(X_train, y_train)\n",
    "        y_pred = forest.predict(X_train)\n",
    "\n",
    "    # Add to matrix_results_2d which is the report we'll look at\n",
    "        result = pd.DataFrame(confusion_matrix(y_train, y_pred))\n",
    "        results = matrix_result_2d(result)\n",
    "        results['depth,leaves'] = (i,j)\n",
    "\n",
    "    # Do a quick validation fit and score just to see how the change in each hyperparameter effects overfit\n",
    "        out_of_sample = forest.score(X_validate, y_validate)\n",
    "        results['fit'] = in_sample - out_of_sample\n",
    "    \n",
    "        forest_metrics.append(results)\n",
    "\n",
    "df_forest_results = pd.DataFrame(forest_metrics).round(2).set_index('depth,leaves')\n",
    "pd.set_option(\"max_rows\", None)\n",
    "df_forest_results"
   ]
  },
  {
   "cell_type": "markdown",
   "id": "d3612993",
   "metadata": {},
   "source": [
    "#### Fit and precision are optimized at depth = 7, leaves = 6."
   ]
  },
  {
   "cell_type": "markdown",
   "id": "33d720c1",
   "metadata": {},
   "source": [
    "### KNN Hyperparameter Tuning"
   ]
  },
  {
   "cell_type": "code",
   "execution_count": null,
   "id": "71a49e47",
   "metadata": {},
   "outputs": [],
   "source": [
    "from sklearn.neighbors import KNeighborsClassifier\n",
    "# knn with multiple hypers\n",
    "knn_metrics = []\n",
    "\n",
    "for i in range(1,25):\n",
    "    knn = KNeighborsClassifier(n_neighbors = i)\n",
    "\n",
    "# Fit the model (on train)\n",
    "    knn = knn.fit(X_train, y_train)\n",
    "    in_sample = knn.score(X_train, y_train)\n",
    "    y_pred = knn.predict(X_train)\n",
    "\n",
    "# Add to matrix_results_2d which is the report we'll look at\n",
    "    result = pd.DataFrame(confusion_matrix(y_train, y_pred))\n",
    "    results = matrix_result_2d(result)\n",
    "    results['neighbors'] = i\n",
    "\n",
    "# Do a quick validation fit and score just to see how the change in each hyperparameter effects overfit\n",
    "    out_of_sample = knn.score(X_validate, y_validate)\n",
    "    results['fit'] = in_sample - out_of_sample\n",
    "    \n",
    "    knn_metrics.append(results)\n",
    "\n",
    "df_knn_results = pd.DataFrame(knn_metrics).round(2).set_index('neighbors')\n",
    "df_knn_results"
   ]
  },
  {
   "cell_type": "markdown",
   "id": "c24864a8",
   "metadata": {},
   "source": [
    "#### 15 neighbors optimizes for precision and fit."
   ]
  },
  {
   "cell_type": "markdown",
   "id": "d57e229e",
   "metadata": {},
   "source": [
    "### Logistical Regression (only used default)"
   ]
  },
  {
   "cell_type": "code",
   "execution_count": null,
   "id": "8e6e32a9",
   "metadata": {},
   "outputs": [],
   "source": [
    "# log reg\n",
    "from sklearn.linear_model import LogisticRegression\n",
    "\n",
    "logit = LogisticRegression()\n",
    "\n",
    "logit = logit.fit(X_train, y_train)\n",
    "in_sample = logit.score(X_train, y_train)\n",
    "y_pred = logit.predict(X_train)\n",
    "\n",
    "result = pd.DataFrame(confusion_matrix(y_train, y_pred))\n",
    "results = matrix_result_2d(result, output='print')"
   ]
  },
  {
   "cell_type": "code",
   "execution_count": null,
   "id": "32c11cdc",
   "metadata": {},
   "outputs": [],
   "source": [
    "#test logit on out of sample\n",
    "y_pred = logit.predict(X_validate)\n",
    "result = pd.DataFrame(confusion_matrix(y_validate, y_pred))\n",
    "results = matrix_result_2d(result, output='print')"
   ]
  }
 ],
 "metadata": {
  "kernelspec": {
   "display_name": "Python 3 (ipykernel)",
   "language": "python",
   "name": "python3"
  },
  "language_info": {
   "codemirror_mode": {
    "name": "ipython",
    "version": 3
   },
   "file_extension": ".py",
   "mimetype": "text/x-python",
   "name": "python",
   "nbconvert_exporter": "python",
   "pygments_lexer": "ipython3",
   "version": "3.9.7"
  }
 },
 "nbformat": 4,
 "nbformat_minor": 5
}
