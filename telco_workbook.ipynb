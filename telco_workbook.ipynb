{
 "cells": [
  {
   "cell_type": "markdown",
   "id": "284e4e4b",
   "metadata": {},
   "source": [
    "# This is the working notebook for the Telco Churn Project\n",
    "   ### *Draft work and details can be found here*\n",
    "   ### *Imports brought in as needed*"
   ]
  },
  {
   "cell_type": "markdown",
   "id": "09ca8195",
   "metadata": {},
   "source": [
    "---"
   ]
  },
  {
   "cell_type": "markdown",
   "id": "3d1c1a74",
   "metadata": {},
   "source": [
    "## **ACQUIRE**\n",
    "- And examine overall data"
   ]
  },
  {
   "cell_type": "code",
   "execution_count": 1,
   "id": "b3bc9cff",
   "metadata": {},
   "outputs": [],
   "source": [
    "#Common DS Libraries:\n",
    "import numpy as np\n",
    "import pandas as pd\n",
    "import matplotlib.pyplot as plt\n",
    "import seaborn as sns\n",
    "import scipy.stats as stats\n",
    "\n",
    "#Helper Functions\n",
    "from acquire import get_telco_data\n",
    "\n",
    "#Ignore Warnings\n",
    "import warnings\n",
    "warnings.filterwarnings('ignore')"
   ]
  },
  {
   "cell_type": "markdown",
   "id": "73e355c6",
   "metadata": {},
   "source": [
    "Created SQL Query that joined the customers with the word definitions of the \"_id\" columns."
   ]
  },
  {
   "cell_type": "code",
   "execution_count": 2,
   "id": "950ccdc8",
   "metadata": {},
   "outputs": [
    {
     "data": {
      "text/html": [
       "<div>\n",
       "<style scoped>\n",
       "    .dataframe tbody tr th:only-of-type {\n",
       "        vertical-align: middle;\n",
       "    }\n",
       "\n",
       "    .dataframe tbody tr th {\n",
       "        vertical-align: top;\n",
       "    }\n",
       "\n",
       "    .dataframe thead th {\n",
       "        text-align: right;\n",
       "    }\n",
       "</style>\n",
       "<table border=\"1\" class=\"dataframe\">\n",
       "  <thead>\n",
       "    <tr style=\"text-align: right;\">\n",
       "      <th></th>\n",
       "      <th>payment_type_id</th>\n",
       "      <th>internet_service_type_id</th>\n",
       "      <th>customer_id</th>\n",
       "      <th>contract_type_id</th>\n",
       "      <th>gender</th>\n",
       "      <th>senior_citizen</th>\n",
       "      <th>partner</th>\n",
       "      <th>dependents</th>\n",
       "      <th>tenure</th>\n",
       "      <th>phone_service</th>\n",
       "      <th>multiple_lines</th>\n",
       "      <th>online_security</th>\n",
       "      <th>online_backup</th>\n",
       "      <th>device_protection</th>\n",
       "      <th>tech_support</th>\n",
       "      <th>streaming_tv</th>\n",
       "      <th>streaming_movies</th>\n",
       "      <th>paperless_billing</th>\n",
       "      <th>monthly_charges</th>\n",
       "      <th>total_charges</th>\n",
       "      <th>churn</th>\n",
       "      <th>contract_type</th>\n",
       "      <th>signup_date</th>\n",
       "      <th>internet_service_type</th>\n",
       "      <th>payment_type</th>\n",
       "    </tr>\n",
       "  </thead>\n",
       "  <tbody>\n",
       "    <tr>\n",
       "      <th>0</th>\n",
       "      <td>2</td>\n",
       "      <td>1</td>\n",
       "      <td>0002-ORFBO</td>\n",
       "      <td>2</td>\n",
       "      <td>Female</td>\n",
       "      <td>0</td>\n",
       "      <td>Yes</td>\n",
       "      <td>Yes</td>\n",
       "      <td>9</td>\n",
       "      <td>Yes</td>\n",
       "      <td>No</td>\n",
       "      <td>No</td>\n",
       "      <td>Yes</td>\n",
       "      <td>No</td>\n",
       "      <td>Yes</td>\n",
       "      <td>Yes</td>\n",
       "      <td>No</td>\n",
       "      <td>Yes</td>\n",
       "      <td>65.6</td>\n",
       "      <td>593.3</td>\n",
       "      <td>No</td>\n",
       "      <td>One year</td>\n",
       "      <td>2021-04-21 18:07:34</td>\n",
       "      <td>DSL</td>\n",
       "      <td>Mailed check</td>\n",
       "    </tr>\n",
       "    <tr>\n",
       "      <th>1</th>\n",
       "      <td>2</td>\n",
       "      <td>1</td>\n",
       "      <td>0003-MKNFE</td>\n",
       "      <td>1</td>\n",
       "      <td>Male</td>\n",
       "      <td>0</td>\n",
       "      <td>No</td>\n",
       "      <td>No</td>\n",
       "      <td>9</td>\n",
       "      <td>Yes</td>\n",
       "      <td>Yes</td>\n",
       "      <td>No</td>\n",
       "      <td>No</td>\n",
       "      <td>No</td>\n",
       "      <td>No</td>\n",
       "      <td>No</td>\n",
       "      <td>Yes</td>\n",
       "      <td>No</td>\n",
       "      <td>59.9</td>\n",
       "      <td>542.4</td>\n",
       "      <td>No</td>\n",
       "      <td>Month-to-month</td>\n",
       "      <td>2021-04-21 18:07:34</td>\n",
       "      <td>DSL</td>\n",
       "      <td>Mailed check</td>\n",
       "    </tr>\n",
       "  </tbody>\n",
       "</table>\n",
       "</div>"
      ],
      "text/plain": [
       "   payment_type_id  internet_service_type_id customer_id  contract_type_id  \\\n",
       "0                2                         1  0002-ORFBO                 2   \n",
       "1                2                         1  0003-MKNFE                 1   \n",
       "\n",
       "   gender  senior_citizen partner dependents  tenure phone_service  \\\n",
       "0  Female               0     Yes        Yes       9           Yes   \n",
       "1    Male               0      No         No       9           Yes   \n",
       "\n",
       "  multiple_lines online_security online_backup device_protection tech_support  \\\n",
       "0             No              No           Yes                No          Yes   \n",
       "1            Yes              No            No                No           No   \n",
       "\n",
       "  streaming_tv streaming_movies paperless_billing  monthly_charges  \\\n",
       "0          Yes               No               Yes             65.6   \n",
       "1           No              Yes                No             59.9   \n",
       "\n",
       "  total_charges churn   contract_type          signup_date  \\\n",
       "0         593.3    No        One year  2021-04-21 18:07:34   \n",
       "1         542.4    No  Month-to-month  2021-04-21 18:07:34   \n",
       "\n",
       "  internet_service_type  payment_type  \n",
       "0                   DSL  Mailed check  \n",
       "1                   DSL  Mailed check  "
      ]
     },
     "execution_count": 2,
     "metadata": {},
     "output_type": "execute_result"
    }
   ],
   "source": [
    "df_raw = get_telco_data()\n",
    "pd.set_option(\"display.max_columns\", None)\n",
    "df_raw.head(2)"
   ]
  },
  {
   "cell_type": "code",
   "execution_count": null,
   "id": "cdd373d6",
   "metadata": {},
   "outputs": [],
   "source": [
    "df_raw.info()"
   ]
  },
  {
   "cell_type": "markdown",
   "id": "ba3bc72f",
   "metadata": {},
   "source": [
    "#### Upon investigation I noticed there were 11 records with zero tenure, who also had zero total charges.  I eliminated those records and converted total charges to a float."
   ]
  },
  {
   "cell_type": "code",
   "execution_count": null,
   "id": "b2b66ba0",
   "metadata": {},
   "outputs": [],
   "source": [
    "# NOTE: Commented out since this is reproduced in the Prepare Step.\n",
    "\n",
    "# df_raw = df_raw[df_raw.total_charges != ' ']\n",
    "# df_raw.total_charges = df_raw.total_charges.astype('float')\n",
    "# df_raw.info()"
   ]
  },
  {
   "cell_type": "markdown",
   "id": "78ae824e",
   "metadata": {},
   "source": [
    "#### Great - now no missing data!"
   ]
  },
  {
   "cell_type": "markdown",
   "id": "cbff5328",
   "metadata": {},
   "source": [
    "#### Create seperate dfs with categorical and numerical only to get some general univariate info"
   ]
  },
  {
   "cell_type": "code",
   "execution_count": 4,
   "id": "eda4cf94",
   "metadata": {},
   "outputs": [],
   "source": [
    "#create df with cat columns only\n",
    "df_raw_cat = df_raw[[col for col in df_raw.columns if df_raw[col].dtype == 'object']]\n",
    "#remove customer id since it has lots of options\n",
    "df_raw_cat = df_raw_cat.drop(columns=['customer_id'])"
   ]
  },
  {
   "cell_type": "code",
   "execution_count": null,
   "id": "11d219bb",
   "metadata": {},
   "outputs": [],
   "source": [
    "#value counts in cat columns\n",
    "for col in df_raw_cat:\n",
    "    print(df_raw_cat[col].value_counts())\n",
    "    print('-----')"
   ]
  },
  {
   "cell_type": "code",
   "execution_count": 5,
   "id": "5a93b6d8",
   "metadata": {},
   "outputs": [
    {
     "data": {
      "text/html": [
       "<div>\n",
       "<style scoped>\n",
       "    .dataframe tbody tr th:only-of-type {\n",
       "        vertical-align: middle;\n",
       "    }\n",
       "\n",
       "    .dataframe tbody tr th {\n",
       "        vertical-align: top;\n",
       "    }\n",
       "\n",
       "    .dataframe thead th {\n",
       "        text-align: right;\n",
       "    }\n",
       "</style>\n",
       "<table border=\"1\" class=\"dataframe\">\n",
       "  <thead>\n",
       "    <tr style=\"text-align: right;\">\n",
       "      <th></th>\n",
       "      <th>payment_type_id</th>\n",
       "      <th>internet_service_type_id</th>\n",
       "      <th>contract_type_id</th>\n",
       "      <th>senior_citizen</th>\n",
       "      <th>tenure</th>\n",
       "      <th>monthly_charges</th>\n",
       "    </tr>\n",
       "  </thead>\n",
       "  <tbody>\n",
       "    <tr>\n",
       "      <th>0</th>\n",
       "      <td>2</td>\n",
       "      <td>1</td>\n",
       "      <td>2</td>\n",
       "      <td>0</td>\n",
       "      <td>9</td>\n",
       "      <td>65.6</td>\n",
       "    </tr>\n",
       "    <tr>\n",
       "      <th>1</th>\n",
       "      <td>2</td>\n",
       "      <td>1</td>\n",
       "      <td>1</td>\n",
       "      <td>0</td>\n",
       "      <td>9</td>\n",
       "      <td>59.9</td>\n",
       "    </tr>\n",
       "  </tbody>\n",
       "</table>\n",
       "</div>"
      ],
      "text/plain": [
       "   payment_type_id  internet_service_type_id  contract_type_id  \\\n",
       "0                2                         1                 2   \n",
       "1                2                         1                 1   \n",
       "\n",
       "   senior_citizen  tenure  monthly_charges  \n",
       "0               0       9             65.6  \n",
       "1               0       9             59.9  "
      ]
     },
     "execution_count": 5,
     "metadata": {},
     "output_type": "execute_result"
    }
   ],
   "source": [
    "#create df with only numerical columns\n",
    "df_raw_num = df_raw[[col for col in df_raw.columns if df_raw[col].dtype != 'object']]\n",
    "df_raw_num.head(2)"
   ]
  },
  {
   "cell_type": "code",
   "execution_count": null,
   "id": "2412a7f9",
   "metadata": {},
   "outputs": [],
   "source": [
    "#remove '-id' and date columns\n",
    "df_raw_num = df_raw_num.drop(columns = ['payment_type_id','internet_service_type_id','contract_type_id','signup_date'])"
   ]
  },
  {
   "cell_type": "code",
   "execution_count": null,
   "id": "218b44b8",
   "metadata": {},
   "outputs": [],
   "source": [
    "#get descriptive stats for each statistic\n",
    "df_raw_num.describe().T"
   ]
  },
  {
   "cell_type": "markdown",
   "id": "611cfb97",
   "metadata": {},
   "source": [
    "## DATA SUMMARY\n",
    "- Univariate Analysis\n",
    "- Note unnecessary data/data to remove or clean in prep stage\n",
    "- Form initial hypothesees and plans"
   ]
  },
  {
   "cell_type": "code",
   "execution_count": 3,
   "id": "0a34e2ca",
   "metadata": {},
   "outputs": [],
   "source": [
    "from EDA_functions import explore_univariate"
   ]
  },
  {
   "cell_type": "code",
   "execution_count": 6,
   "id": "8696d463",
   "metadata": {},
   "outputs": [],
   "source": [
    "#cat and num column names\n",
    "df_raw_cat_vars = [col for col in df_raw_cat.columns]\n",
    "df_raw_num_vars = [col for col in df_raw_num.columns]"
   ]
  },
  {
   "cell_type": "code",
   "execution_count": 7,
   "id": "73217f37",
   "metadata": {},
   "outputs": [
    {
     "data": {
      "image/png": "[encoded data removed]",
      "text/plain": [
       "<Figure size 144x144 with 1 Axes>"
      ]
     },
     "metadata": {
      "needs_background": "light"
     },
     "output_type": "display_data"
    },
    {
     "name": "stdout",
     "output_type": "stream",
     "text": [
      "        gender  Count  Percent\n",
      "Male    Female   3555    50.48\n",
      "Female    Male   3488    49.52\n",
      "_________________________________________________________________\n"
     ]
    },
    {
     "data": {
      "image/png": "[encoded data removed]",
      "text/plain": [
       "<Figure size 144x144 with 1 Axes>"
      ]
     },
     "metadata": {
      "needs_background": "light"
     },
     "output_type": "display_data"
    },
    {
     "name": "stdout",
     "output_type": "stream",
     "text": [
      "    partner  Count  Percent\n",
      "No      Yes   3641     51.7\n",
      "Yes      No   3402     48.3\n",
      "_________________________________________________________________\n"
     ]
    },
    {
     "data": {
      "image/png": "[encoded data removed]",
      "text/plain": [
       "<Figure size 144x144 with 1 Axes>"
      ]
     },
     "metadata": {
      "needs_background": "light"
     },
     "output_type": "display_data"
    },
    {
     "name": "stdout",
     "output_type": "stream",
     "text": [
      "    dependents  Count  Percent\n",
      "No         Yes   4933    70.04\n",
      "Yes         No   2110    29.96\n",
      "_________________________________________________________________\n"
     ]
    },
    {
     "data": {
      "image/png": "[encoded data removed]",
      "text/plain": [
       "<Figure size 144x144 with 1 Axes>"
      ]
     },
     "metadata": {
      "needs_background": "light"
     },
     "output_type": "display_data"
    },
    {
     "name": "stdout",
     "output_type": "stream",
     "text": [
      "    phone_service  Count  Percent\n",
      "Yes           Yes   6361    90.32\n",
      "No             No    682     9.68\n",
      "_________________________________________________________________\n"
     ]
    },
    {
     "data": {
      "image/png": "[encoded data removed]",
      "text/plain": [
       "<Figure size 144x144 with 1 Axes>"
      ]
     },
     "metadata": {
      "needs_background": "light"
     },
     "output_type": "display_data"
    },
    {
     "name": "stdout",
     "output_type": "stream",
     "text": [
      "                    multiple_lines  Count  Percent\n",
      "No                              No   3390    48.13\n",
      "Yes                            Yes   2971    42.18\n",
      "No phone service  No phone service    682     9.68\n",
      "_________________________________________________________________\n"
     ]
    },
    {
     "data": {
      "image/png": "[encoded data removed]",
      "text/plain": [
       "<Figure size 144x144 with 1 Axes>"
      ]
     },
     "metadata": {
      "needs_background": "light"
     },
     "output_type": "display_data"
    },
    {
     "name": "stdout",
     "output_type": "stream",
     "text": [
      "                         online_security  Count  Percent\n",
      "No                                    No   3498    49.67\n",
      "Yes                                  Yes   2019    28.67\n",
      "No internet service  No internet service   1526    21.67\n",
      "_________________________________________________________________\n"
     ]
    },
    {
     "data": {
      "image/png": "[encoded data removed]",
      "text/plain": [
       "<Figure size 144x144 with 1 Axes>"
      ]
     },
     "metadata": {
      "needs_background": "light"
     },
     "output_type": "display_data"
    },
    {
     "name": "stdout",
     "output_type": "stream",
     "text": [
      "                           online_backup  Count  Percent\n",
      "No                                   Yes   3088    43.84\n",
      "Yes                                   No   2429    34.49\n",
      "No internet service  No internet service   1526    21.67\n",
      "_________________________________________________________________\n"
     ]
    },
    {
     "data": {
      "image/png": "[encoded data removed]",
      "text/plain": [
       "<Figure size 144x144 with 1 Axes>"
      ]
     },
     "metadata": {
      "needs_background": "light"
     },
     "output_type": "display_data"
    },
    {
     "name": "stdout",
     "output_type": "stream",
     "text": [
      "                       device_protection  Count  Percent\n",
      "No                                    No   3095    43.94\n",
      "Yes                                  Yes   2422    34.39\n",
      "No internet service  No internet service   1526    21.67\n",
      "_________________________________________________________________\n"
     ]
    },
    {
     "data": {
      "image/png": "[encoded data removed]",
      "text/plain": [
       "<Figure size 144x144 with 1 Axes>"
      ]
     },
     "metadata": {
      "needs_background": "light"
     },
     "output_type": "display_data"
    },
    {
     "name": "stdout",
     "output_type": "stream",
     "text": [
      "                            tech_support  Count  Percent\n",
      "No                                   Yes   3473    49.31\n",
      "Yes                                   No   2044    29.02\n",
      "No internet service  No internet service   1526    21.67\n",
      "_________________________________________________________________\n"
     ]
    },
    {
     "data": {
      "image/png": "[encoded data removed]",
      "text/plain": [
       "<Figure size 144x144 with 1 Axes>"
      ]
     },
     "metadata": {
      "needs_background": "light"
     },
     "output_type": "display_data"
    },
    {
     "name": "stdout",
     "output_type": "stream",
     "text": [
      "                            streaming_tv  Count  Percent\n",
      "No                                   Yes   2810    39.90\n",
      "Yes                                   No   2707    38.44\n",
      "No internet service  No internet service   1526    21.67\n",
      "_________________________________________________________________\n"
     ]
    },
    {
     "data": {
      "image/png": "[encoded data removed]",
      "text/plain": [
       "<Figure size 144x144 with 1 Axes>"
      ]
     },
     "metadata": {
      "needs_background": "light"
     },
     "output_type": "display_data"
    },
    {
     "name": "stdout",
     "output_type": "stream",
     "text": [
      "                        streaming_movies  Count  Percent\n",
      "No                                    No   2785    39.54\n",
      "Yes                                  Yes   2732    38.79\n",
      "No internet service  No internet service   1526    21.67\n",
      "_________________________________________________________________\n"
     ]
    },
    {
     "data": {
      "image/png": "[encoded data removed]",
      "text/plain": [
       "<Figure size 144x144 with 1 Axes>"
      ]
     },
     "metadata": {
      "needs_background": "light"
     },
     "output_type": "display_data"
    },
    {
     "name": "stdout",
     "output_type": "stream",
     "text": [
      "    paperless_billing  Count  Percent\n",
      "Yes               Yes   4171    59.22\n",
      "No                 No   2872    40.78\n",
      "_________________________________________________________________\n"
     ]
    },
    {
     "data": {
      "image/png": "[encoded data removed]",
      "text/plain": [
       "<Figure size 144x144 with 1 Axes>"
      ]
     },
     "metadata": {
      "needs_background": "light"
     },
     "output_type": "display_data"
    },
    {
     "name": "stdout",
     "output_type": "stream",
     "text": [
      "        total_charges  Count  Percent\n",
      "                593.3     11     0.16\n",
      "20.2            542.4     11     0.16\n",
      "19.75          280.85      9     0.13\n",
      "19.9          1237.85      8     0.11\n",
      "20.05           267.4      8     0.11\n",
      "...               ...    ...      ...\n",
      "2387.75       4018.05      1     0.01\n",
      "6302.8         633.45      1     0.01\n",
      "2058.5          742.9      1     0.01\n",
      "829.55        4627.65      1     0.01\n",
      "3707.6         3707.6      1     0.01\n",
      "\n",
      "[6531 rows x 3 columns]\n",
      "_________________________________________________________________\n"
     ]
    },
    {
     "data": {
      "image/png": "[encoded data removed]",
      "text/plain": [
       "<Figure size 144x144 with 1 Axes>"
      ]
     },
     "metadata": {
      "needs_background": "light"
     },
     "output_type": "display_data"
    },
    {
     "name": "stdout",
     "output_type": "stream",
     "text": [
      "    churn  Count  Percent\n",
      "No     No   5174    73.46\n",
      "Yes   Yes   1869    26.54\n",
      "_________________________________________________________________\n"
     ]
    },
    {
     "data": {
      "image/png": "[encoded data removed]",
      "text/plain": [
       "<Figure size 144x144 with 1 Axes>"
      ]
     },
     "metadata": {
      "needs_background": "light"
     },
     "output_type": "display_data"
    },
    {
     "name": "stdout",
     "output_type": "stream",
     "text": [
      "                 contract_type  Count  Percent\n",
      "Month-to-month        One year   3875    55.02\n",
      "Two year        Month-to-month   1695    24.07\n",
      "One year              Two year   1473    20.91\n",
      "_________________________________________________________________\n"
     ]
    },
    {
     "data": {
      "image/png": "[encoded data removed]",
      "text/plain": [
       "<Figure size 144x144 with 1 Axes>"
      ]
     },
     "metadata": {
      "needs_background": "light"
     },
     "output_type": "display_data"
    },
    {
     "name": "stdout",
     "output_type": "stream",
     "text": [
      "                             signup_date  Count  Percent\n",
      "2021-12-21 18:07:34  2021-04-21 18:07:34    613     8.70\n",
      "2016-01-21 18:07:34  2021-09-21 18:07:34    362     5.14\n",
      "2021-11-21 18:07:34  2020-12-21 18:07:34    238     3.38\n",
      "2021-10-21 18:07:34  2021-10-21 18:07:34    200     2.84\n",
      "2021-09-21 18:07:34  2016-02-21 18:07:34    176     2.50\n",
      "...                                  ...    ...      ...\n",
      "2019-09-21 18:07:34  2020-07-21 18:07:34     57     0.81\n",
      "2018-10-21 18:07:34  2017-10-21 18:07:34     56     0.80\n",
      "2018-05-21 18:07:34  2018-11-21 18:07:34     51     0.72\n",
      "2019-01-21 18:07:34  2018-07-21 18:07:34     50     0.71\n",
      "2022-01-21 18:07:34  2022-01-21 18:07:34     11     0.16\n",
      "\n",
      "[73 rows x 3 columns]\n",
      "_________________________________________________________________\n"
     ]
    },
    {
     "data": {
      "image/png": "[encoded data removed]",
      "text/plain": [
       "<Figure size 144x144 with 1 Axes>"
      ]
     },
     "metadata": {
      "needs_background": "light"
     },
     "output_type": "display_data"
    },
    {
     "name": "stdout",
     "output_type": "stream",
     "text": [
      "            internet_service_type  Count  Percent\n",
      "Fiber optic                   DSL   3096    43.96\n",
      "DSL                   Fiber optic   2421    34.37\n",
      "None                         None   1526    21.67\n",
      "_________________________________________________________________\n"
     ]
    },
    {
     "data": {
      "image/png": "[encoded data removed]",
      "text/plain": [
       "<Figure size 144x144 with 1 Axes>"
      ]
     },
     "metadata": {
      "needs_background": "light"
     },
     "output_type": "display_data"
    },
    {
     "name": "stdout",
     "output_type": "stream",
     "text": [
      "                                        payment_type  Count  Percent\n",
      "Electronic check                        Mailed check   2365    33.58\n",
      "Mailed check                        Electronic check   1612    22.89\n",
      "Bank transfer (automatic)    Credit card (automatic)   1544    21.92\n",
      "Credit card (automatic)    Bank transfer (automatic)   1522    21.61\n",
      "_________________________________________________________________\n"
     ]
    },
    {
     "data": {
      "image/png": "[encoded data removed]",
      "text/plain": [
       "<Figure size 576x144 with 2 Axes>"
      ]
     },
     "metadata": {
      "needs_background": "light"
     },
     "output_type": "display_data"
    },
    {
     "name": "stdout",
     "output_type": "stream",
     "text": [
      "count    7043.000000\n",
      "mean        2.315633\n",
      "std         1.148907\n",
      "min         1.000000\n",
      "25%         1.000000\n",
      "50%         2.000000\n",
      "75%         3.000000\n",
      "max         4.000000\n",
      "Name: payment_type_id, dtype: float64\n"
     ]
    },
    {
     "data": {
      "image/png": "[encoded data removed]",
      "text/plain": [
       "<Figure size 576x144 with 2 Axes>"
      ]
     },
     "metadata": {
      "needs_background": "light"
     },
     "output_type": "display_data"
    },
    {
     "name": "stdout",
     "output_type": "stream",
     "text": [
      "count    7043.000000\n",
      "mean        1.872923\n",
      "std         0.737796\n",
      "min         1.000000\n",
      "25%         1.000000\n",
      "50%         2.000000\n",
      "75%         2.000000\n",
      "max         3.000000\n",
      "Name: internet_service_type_id, dtype: float64\n"
     ]
    },
    {
     "data": {
      "image/png": "[encoded data removed]",
      "text/plain": [
       "<Figure size 576x144 with 2 Axes>"
      ]
     },
     "metadata": {
      "needs_background": "light"
     },
     "output_type": "display_data"
    },
    {
     "name": "stdout",
     "output_type": "stream",
     "text": [
      "count    7043.000000\n",
      "mean        1.690473\n",
      "std         0.833755\n",
      "min         1.000000\n",
      "25%         1.000000\n",
      "50%         1.000000\n",
      "75%         2.000000\n",
      "max         3.000000\n",
      "Name: contract_type_id, dtype: float64\n"
     ]
    },
    {
     "data": {
      "image/png": "[encoded data removed]",
      "text/plain": [
       "<Figure size 576x144 with 2 Axes>"
      ]
     },
     "metadata": {
      "needs_background": "light"
     },
     "output_type": "display_data"
    },
    {
     "name": "stdout",
     "output_type": "stream",
     "text": [
      "count    7043.000000\n",
      "mean        0.162147\n",
      "std         0.368612\n",
      "min         0.000000\n",
      "25%         0.000000\n",
      "50%         0.000000\n",
      "75%         0.000000\n",
      "max         1.000000\n",
      "Name: senior_citizen, dtype: float64\n"
     ]
    },
    {
     "data": {
      "image/png": "[encoded data removed]",
      "text/plain": [
       "<Figure size 576x144 with 2 Axes>"
      ]
     },
     "metadata": {
      "needs_background": "light"
     },
     "output_type": "display_data"
    },
    {
     "name": "stdout",
     "output_type": "stream",
     "text": [
      "count    7043.000000\n",
      "mean       32.371149\n",
      "std        24.559481\n",
      "min         0.000000\n",
      "25%         9.000000\n",
      "50%        29.000000\n",
      "75%        55.000000\n",
      "max        72.000000\n",
      "Name: tenure, dtype: float64\n"
     ]
    },
    {
     "data": {
      "image/png": "[encoded data removed]",
      "text/plain": [
       "<Figure size 576x144 with 2 Axes>"
      ]
     },
     "metadata": {
      "needs_background": "light"
     },
     "output_type": "display_data"
    },
    {
     "name": "stdout",
     "output_type": "stream",
     "text": [
      "count    7043.000000\n",
      "mean       64.761692\n",
      "std        30.090047\n",
      "min        18.250000\n",
      "25%        35.500000\n",
      "50%        70.350000\n",
      "75%        89.850000\n",
      "max       118.750000\n",
      "Name: monthly_charges, dtype: float64\n"
     ]
    }
   ],
   "source": [
    "explore_univariate(df_raw,df_raw_cat_vars,df_raw_num_vars)"
   ]
  },
  {
   "cell_type": "markdown",
   "id": "8546ba57",
   "metadata": {},
   "source": [
    "### Initial Dataset Analysis\n",
    "- Gender and partner status are about even\n",
    "- 2:1 Depedents (families) to none\n",
    "- Vast majority have phone service (9:1)\n",
    "- For those with phone lines, fairly even split between single and multiple\n",
    "- Only 30% have online security\n",
    "- 35% have online backup\n",
    "- 35% also have device protection (note: explore device vs battery backup)\n",
    "- Only 30% have tech support (price if signifigant)\n",
    "- Even split for streaming for those with internet service\n",
    "- Streaming movies mirrors streaming internet\n",
    "- 60/40 paperless vs paper billing\n",
    "- **26.59% overall churn rate**\n",
    "- 55% month to month, almost evenly split between one year and two year\n",
    "- 56/44 split between Fiber and DSL\n",
    "- 1/3 pay by auto check, the rest evenly distributed between mailed, bank transfer and cc\n",
    "- 16% senior citizens\n",
    "- Tenure short and long, mean 32 months (mean without top and bottom slightly higher than this mean)\n",
    "- Monthly charges normal with big low end mode\n",
    "\n",
    "### Data Prep Plan\n",
    "- Remove the 11 zero-tenure month records\n",
    "- Drop customer id\n",
    "- Drop all id categories (covered by actual categories which are just as wasy to encode)\n",
    "- Drop signup date (since all churn dates = 1/2022, all tenure captures this information)\n",
    "- Convert all yes/no to 1/0\n",
    "- Convert total charges to float\n",
    "\n",
    "### Questions to Examine\n",
    "- Is there any difference between genders and partner status with churn (will be impactful since they are so evently represented)\n",
    "- Any churn difference between families vs individuals?\n",
    "- What are the impacts of having online security, online backup, device protection, tech support, streaming movies and streaming internet have on churn?  How do these variables relate to one another?\n",
    "- What are the effects of internet service type, and how does that interplay with the above internet services (security, backup, etc. - multivariate analysis?)\n",
    "- Does being a senior have an impact?  If not a huge impact shouldn't be a big deal since they are such a small percentage of overall users.\n",
    "- Does payment method have an impact on churn?"
   ]
  },
  {
   "cell_type": "markdown",
   "id": "7aadd29a",
   "metadata": {},
   "source": [
    "## PREPARE"
   ]
  },
  {
   "cell_type": "markdown",
   "id": "9e484993",
   "metadata": {},
   "source": [
    "Prepare from file informed by above analysis."
   ]
  },
  {
   "cell_type": "code",
   "execution_count": 8,
   "id": "aae3c9ae",
   "metadata": {},
   "outputs": [
    {
     "data": {
      "text/html": [
       "<div>\n",
       "<style scoped>\n",
       "    .dataframe tbody tr th:only-of-type {\n",
       "        vertical-align: middle;\n",
       "    }\n",
       "\n",
       "    .dataframe tbody tr th {\n",
       "        vertical-align: top;\n",
       "    }\n",
       "\n",
       "    .dataframe thead th {\n",
       "        text-align: right;\n",
       "    }\n",
       "</style>\n",
       "<table border=\"1\" class=\"dataframe\">\n",
       "  <thead>\n",
       "    <tr style=\"text-align: right;\">\n",
       "      <th></th>\n",
       "      <th>customer_id</th>\n",
       "      <th>gender</th>\n",
       "      <th>senior_citizen</th>\n",
       "      <th>partner</th>\n",
       "      <th>dependents</th>\n",
       "      <th>tenure</th>\n",
       "      <th>phone_service</th>\n",
       "      <th>multiple_lines</th>\n",
       "      <th>online_security</th>\n",
       "      <th>online_backup</th>\n",
       "      <th>device_protection</th>\n",
       "      <th>tech_support</th>\n",
       "      <th>streaming_tv</th>\n",
       "      <th>streaming_movies</th>\n",
       "      <th>paperless_billing</th>\n",
       "      <th>monthly_charges</th>\n",
       "      <th>total_charges</th>\n",
       "      <th>churn</th>\n",
       "      <th>contract_type</th>\n",
       "      <th>internet_service_type</th>\n",
       "      <th>payment_type</th>\n",
       "      <th>gender_encoded</th>\n",
       "      <th>partner_encoded</th>\n",
       "      <th>dependents_encoded</th>\n",
       "      <th>phone_service_encoded</th>\n",
       "      <th>paperless_billing_encoded</th>\n",
       "      <th>churn_encoded</th>\n",
       "      <th>multiple_lines_No</th>\n",
       "      <th>multiple_lines_No phone service</th>\n",
       "      <th>multiple_lines_Yes</th>\n",
       "      <th>online_security_No</th>\n",
       "      <th>online_security_No internet service</th>\n",
       "      <th>online_security_Yes</th>\n",
       "      <th>online_backup_No</th>\n",
       "      <th>online_backup_No internet service</th>\n",
       "      <th>online_backup_Yes</th>\n",
       "      <th>device_protection_No</th>\n",
       "      <th>device_protection_No internet service</th>\n",
       "      <th>device_protection_Yes</th>\n",
       "      <th>tech_support_No</th>\n",
       "      <th>tech_support_No internet service</th>\n",
       "      <th>tech_support_Yes</th>\n",
       "      <th>streaming_tv_No</th>\n",
       "      <th>streaming_tv_No internet service</th>\n",
       "      <th>streaming_tv_Yes</th>\n",
       "      <th>streaming_movies_No</th>\n",
       "      <th>streaming_movies_No internet service</th>\n",
       "      <th>streaming_movies_Yes</th>\n",
       "      <th>contract_type_Month-to-month</th>\n",
       "      <th>contract_type_One year</th>\n",
       "      <th>contract_type_Two year</th>\n",
       "      <th>internet_service_type_DSL</th>\n",
       "      <th>internet_service_type_Fiber optic</th>\n",
       "      <th>internet_service_type_None</th>\n",
       "      <th>payment_type_Bank transfer (automatic)</th>\n",
       "      <th>payment_type_Credit card (automatic)</th>\n",
       "      <th>payment_type_Electronic check</th>\n",
       "      <th>payment_type_Mailed check</th>\n",
       "    </tr>\n",
       "  </thead>\n",
       "  <tbody>\n",
       "    <tr>\n",
       "      <th>0</th>\n",
       "      <td>0002-ORFBO</td>\n",
       "      <td>Female</td>\n",
       "      <td>0</td>\n",
       "      <td>Yes</td>\n",
       "      <td>Yes</td>\n",
       "      <td>9</td>\n",
       "      <td>Yes</td>\n",
       "      <td>No</td>\n",
       "      <td>No</td>\n",
       "      <td>Yes</td>\n",
       "      <td>No</td>\n",
       "      <td>Yes</td>\n",
       "      <td>Yes</td>\n",
       "      <td>No</td>\n",
       "      <td>Yes</td>\n",
       "      <td>65.6</td>\n",
       "      <td>593.3</td>\n",
       "      <td>No</td>\n",
       "      <td>One year</td>\n",
       "      <td>DSL</td>\n",
       "      <td>Mailed check</td>\n",
       "      <td>1</td>\n",
       "      <td>1</td>\n",
       "      <td>1</td>\n",
       "      <td>1</td>\n",
       "      <td>1</td>\n",
       "      <td>0</td>\n",
       "      <td>1</td>\n",
       "      <td>0</td>\n",
       "      <td>0</td>\n",
       "      <td>1</td>\n",
       "      <td>0</td>\n",
       "      <td>0</td>\n",
       "      <td>0</td>\n",
       "      <td>0</td>\n",
       "      <td>1</td>\n",
       "      <td>1</td>\n",
       "      <td>0</td>\n",
       "      <td>0</td>\n",
       "      <td>0</td>\n",
       "      <td>0</td>\n",
       "      <td>1</td>\n",
       "      <td>0</td>\n",
       "      <td>0</td>\n",
       "      <td>1</td>\n",
       "      <td>1</td>\n",
       "      <td>0</td>\n",
       "      <td>0</td>\n",
       "      <td>0</td>\n",
       "      <td>1</td>\n",
       "      <td>0</td>\n",
       "      <td>1</td>\n",
       "      <td>0</td>\n",
       "      <td>0</td>\n",
       "      <td>0</td>\n",
       "      <td>0</td>\n",
       "      <td>0</td>\n",
       "      <td>1</td>\n",
       "    </tr>\n",
       "    <tr>\n",
       "      <th>1</th>\n",
       "      <td>0003-MKNFE</td>\n",
       "      <td>Male</td>\n",
       "      <td>0</td>\n",
       "      <td>No</td>\n",
       "      <td>No</td>\n",
       "      <td>9</td>\n",
       "      <td>Yes</td>\n",
       "      <td>Yes</td>\n",
       "      <td>No</td>\n",
       "      <td>No</td>\n",
       "      <td>No</td>\n",
       "      <td>No</td>\n",
       "      <td>No</td>\n",
       "      <td>Yes</td>\n",
       "      <td>No</td>\n",
       "      <td>59.9</td>\n",
       "      <td>542.4</td>\n",
       "      <td>No</td>\n",
       "      <td>Month-to-month</td>\n",
       "      <td>DSL</td>\n",
       "      <td>Mailed check</td>\n",
       "      <td>0</td>\n",
       "      <td>0</td>\n",
       "      <td>0</td>\n",
       "      <td>1</td>\n",
       "      <td>0</td>\n",
       "      <td>0</td>\n",
       "      <td>0</td>\n",
       "      <td>0</td>\n",
       "      <td>1</td>\n",
       "      <td>1</td>\n",
       "      <td>0</td>\n",
       "      <td>0</td>\n",
       "      <td>1</td>\n",
       "      <td>0</td>\n",
       "      <td>0</td>\n",
       "      <td>1</td>\n",
       "      <td>0</td>\n",
       "      <td>0</td>\n",
       "      <td>1</td>\n",
       "      <td>0</td>\n",
       "      <td>0</td>\n",
       "      <td>1</td>\n",
       "      <td>0</td>\n",
       "      <td>0</td>\n",
       "      <td>0</td>\n",
       "      <td>0</td>\n",
       "      <td>1</td>\n",
       "      <td>1</td>\n",
       "      <td>0</td>\n",
       "      <td>0</td>\n",
       "      <td>1</td>\n",
       "      <td>0</td>\n",
       "      <td>0</td>\n",
       "      <td>0</td>\n",
       "      <td>0</td>\n",
       "      <td>0</td>\n",
       "      <td>1</td>\n",
       "    </tr>\n",
       "  </tbody>\n",
       "</table>\n",
       "</div>"
      ],
      "text/plain": [
       "  customer_id  gender  senior_citizen partner dependents  tenure  \\\n",
       "0  0002-ORFBO  Female               0     Yes        Yes       9   \n",
       "1  0003-MKNFE    Male               0      No         No       9   \n",
       "\n",
       "  phone_service multiple_lines online_security online_backup  \\\n",
       "0           Yes             No              No           Yes   \n",
       "1           Yes            Yes              No            No   \n",
       "\n",
       "  device_protection tech_support streaming_tv streaming_movies  \\\n",
       "0                No          Yes          Yes               No   \n",
       "1                No           No           No              Yes   \n",
       "\n",
       "  paperless_billing  monthly_charges  total_charges churn   contract_type  \\\n",
       "0               Yes             65.6          593.3    No        One year   \n",
       "1                No             59.9          542.4    No  Month-to-month   \n",
       "\n",
       "  internet_service_type  payment_type  gender_encoded  partner_encoded  \\\n",
       "0                   DSL  Mailed check               1                1   \n",
       "1                   DSL  Mailed check               0                0   \n",
       "\n",
       "   dependents_encoded  phone_service_encoded  paperless_billing_encoded  \\\n",
       "0                   1                      1                          1   \n",
       "1                   0                      1                          0   \n",
       "\n",
       "   churn_encoded  multiple_lines_No  multiple_lines_No phone service  \\\n",
       "0              0                  1                                0   \n",
       "1              0                  0                                0   \n",
       "\n",
       "   multiple_lines_Yes  online_security_No  \\\n",
       "0                   0                   1   \n",
       "1                   1                   1   \n",
       "\n",
       "   online_security_No internet service  online_security_Yes  online_backup_No  \\\n",
       "0                                    0                    0                 0   \n",
       "1                                    0                    0                 1   \n",
       "\n",
       "   online_backup_No internet service  online_backup_Yes  device_protection_No  \\\n",
       "0                                  0                  1                     1   \n",
       "1                                  0                  0                     1   \n",
       "\n",
       "   device_protection_No internet service  device_protection_Yes  \\\n",
       "0                                      0                      0   \n",
       "1                                      0                      0   \n",
       "\n",
       "   tech_support_No  tech_support_No internet service  tech_support_Yes  \\\n",
       "0                0                                 0                 1   \n",
       "1                1                                 0                 0   \n",
       "\n",
       "   streaming_tv_No  streaming_tv_No internet service  streaming_tv_Yes  \\\n",
       "0                0                                 0                 1   \n",
       "1                1                                 0                 0   \n",
       "\n",
       "   streaming_movies_No  streaming_movies_No internet service  \\\n",
       "0                    1                                     0   \n",
       "1                    0                                     0   \n",
       "\n",
       "   streaming_movies_Yes  contract_type_Month-to-month  contract_type_One year  \\\n",
       "0                     0                             0                       1   \n",
       "1                     1                             1                       0   \n",
       "\n",
       "   contract_type_Two year  internet_service_type_DSL  \\\n",
       "0                       0                          1   \n",
       "1                       0                          1   \n",
       "\n",
       "   internet_service_type_Fiber optic  internet_service_type_None  \\\n",
       "0                                  0                           0   \n",
       "1                                  0                           0   \n",
       "\n",
       "   payment_type_Bank transfer (automatic)  \\\n",
       "0                                       0   \n",
       "1                                       0   \n",
       "\n",
       "   payment_type_Credit card (automatic)  payment_type_Electronic check  \\\n",
       "0                                     0                              0   \n",
       "1                                     0                              0   \n",
       "\n",
       "   payment_type_Mailed check  \n",
       "0                          1  \n",
       "1                          1  "
      ]
     },
     "execution_count": 8,
     "metadata": {},
     "output_type": "execute_result"
    }
   ],
   "source": [
    "from prepare import prep_telco\n",
    "df = prep_telco(df_raw)\n",
    "df.head(2)"
   ]
  },
  {
   "cell_type": "markdown",
   "id": "7cd56c37",
   "metadata": {},
   "source": [
    "### Split into train, validate and test datasets according to 56% Train, 24% Validate, 20% Test (random seed = 123)"
   ]
  },
  {
   "cell_type": "code",
   "execution_count": 9,
   "id": "e0cae49d",
   "metadata": {},
   "outputs": [
    {
     "name": "stdout",
     "output_type": "stream",
     "text": [
      "Train = 56.0% | Validate = 24.0% | Test = 20.0%\n"
     ]
    },
    {
     "data": {
      "text/html": [
       "<div>\n",
       "<style scoped>\n",
       "    .dataframe tbody tr th:only-of-type {\n",
       "        vertical-align: middle;\n",
       "    }\n",
       "\n",
       "    .dataframe tbody tr th {\n",
       "        vertical-align: top;\n",
       "    }\n",
       "\n",
       "    .dataframe thead th {\n",
       "        text-align: right;\n",
       "    }\n",
       "</style>\n",
       "<table border=\"1\" class=\"dataframe\">\n",
       "  <thead>\n",
       "    <tr style=\"text-align: right;\">\n",
       "      <th></th>\n",
       "      <th>customer_id</th>\n",
       "      <th>gender</th>\n",
       "      <th>senior_citizen</th>\n",
       "      <th>partner</th>\n",
       "      <th>dependents</th>\n",
       "      <th>tenure</th>\n",
       "      <th>phone_service</th>\n",
       "      <th>multiple_lines</th>\n",
       "      <th>online_security</th>\n",
       "      <th>online_backup</th>\n",
       "      <th>device_protection</th>\n",
       "      <th>tech_support</th>\n",
       "      <th>streaming_tv</th>\n",
       "      <th>streaming_movies</th>\n",
       "      <th>paperless_billing</th>\n",
       "      <th>monthly_charges</th>\n",
       "      <th>total_charges</th>\n",
       "      <th>churn</th>\n",
       "      <th>contract_type</th>\n",
       "      <th>internet_service_type</th>\n",
       "      <th>payment_type</th>\n",
       "      <th>gender_encoded</th>\n",
       "      <th>partner_encoded</th>\n",
       "      <th>dependents_encoded</th>\n",
       "      <th>phone_service_encoded</th>\n",
       "      <th>paperless_billing_encoded</th>\n",
       "      <th>churn_encoded</th>\n",
       "      <th>multiple_lines_No</th>\n",
       "      <th>multiple_lines_No phone service</th>\n",
       "      <th>multiple_lines_Yes</th>\n",
       "      <th>online_security_No</th>\n",
       "      <th>online_security_No internet service</th>\n",
       "      <th>online_security_Yes</th>\n",
       "      <th>online_backup_No</th>\n",
       "      <th>online_backup_No internet service</th>\n",
       "      <th>online_backup_Yes</th>\n",
       "      <th>device_protection_No</th>\n",
       "      <th>device_protection_No internet service</th>\n",
       "      <th>device_protection_Yes</th>\n",
       "      <th>tech_support_No</th>\n",
       "      <th>tech_support_No internet service</th>\n",
       "      <th>tech_support_Yes</th>\n",
       "      <th>streaming_tv_No</th>\n",
       "      <th>streaming_tv_No internet service</th>\n",
       "      <th>streaming_tv_Yes</th>\n",
       "      <th>streaming_movies_No</th>\n",
       "      <th>streaming_movies_No internet service</th>\n",
       "      <th>streaming_movies_Yes</th>\n",
       "      <th>contract_type_Month-to-month</th>\n",
       "      <th>contract_type_One year</th>\n",
       "      <th>contract_type_Two year</th>\n",
       "      <th>internet_service_type_DSL</th>\n",
       "      <th>internet_service_type_Fiber optic</th>\n",
       "      <th>internet_service_type_None</th>\n",
       "      <th>payment_type_Bank transfer (automatic)</th>\n",
       "      <th>payment_type_Credit card (automatic)</th>\n",
       "      <th>payment_type_Electronic check</th>\n",
       "      <th>payment_type_Mailed check</th>\n",
       "    </tr>\n",
       "  </thead>\n",
       "  <tbody>\n",
       "    <tr>\n",
       "      <th>6212</th>\n",
       "      <td>8780-YRMTT</td>\n",
       "      <td>Female</td>\n",
       "      <td>0</td>\n",
       "      <td>No</td>\n",
       "      <td>No</td>\n",
       "      <td>66</td>\n",
       "      <td>No</td>\n",
       "      <td>No phone service</td>\n",
       "      <td>Yes</td>\n",
       "      <td>Yes</td>\n",
       "      <td>Yes</td>\n",
       "      <td>Yes</td>\n",
       "      <td>No</td>\n",
       "      <td>No</td>\n",
       "      <td>Yes</td>\n",
       "      <td>47.4</td>\n",
       "      <td>3177.25</td>\n",
       "      <td>No</td>\n",
       "      <td>Two year</td>\n",
       "      <td>DSL</td>\n",
       "      <td>Mailed check</td>\n",
       "      <td>1</td>\n",
       "      <td>0</td>\n",
       "      <td>0</td>\n",
       "      <td>0</td>\n",
       "      <td>1</td>\n",
       "      <td>0</td>\n",
       "      <td>0</td>\n",
       "      <td>1</td>\n",
       "      <td>0</td>\n",
       "      <td>0</td>\n",
       "      <td>0</td>\n",
       "      <td>1</td>\n",
       "      <td>0</td>\n",
       "      <td>0</td>\n",
       "      <td>1</td>\n",
       "      <td>0</td>\n",
       "      <td>0</td>\n",
       "      <td>1</td>\n",
       "      <td>0</td>\n",
       "      <td>0</td>\n",
       "      <td>1</td>\n",
       "      <td>1</td>\n",
       "      <td>0</td>\n",
       "      <td>0</td>\n",
       "      <td>1</td>\n",
       "      <td>0</td>\n",
       "      <td>0</td>\n",
       "      <td>0</td>\n",
       "      <td>0</td>\n",
       "      <td>1</td>\n",
       "      <td>1</td>\n",
       "      <td>0</td>\n",
       "      <td>0</td>\n",
       "      <td>0</td>\n",
       "      <td>0</td>\n",
       "      <td>0</td>\n",
       "      <td>1</td>\n",
       "    </tr>\n",
       "    <tr>\n",
       "      <th>1669</th>\n",
       "      <td>2432-TFSMK</td>\n",
       "      <td>Male</td>\n",
       "      <td>0</td>\n",
       "      <td>No</td>\n",
       "      <td>No</td>\n",
       "      <td>18</td>\n",
       "      <td>Yes</td>\n",
       "      <td>Yes</td>\n",
       "      <td>No</td>\n",
       "      <td>No</td>\n",
       "      <td>Yes</td>\n",
       "      <td>No</td>\n",
       "      <td>Yes</td>\n",
       "      <td>No</td>\n",
       "      <td>Yes</td>\n",
       "      <td>89.6</td>\n",
       "      <td>1633.00</td>\n",
       "      <td>No</td>\n",
       "      <td>One year</td>\n",
       "      <td>Fiber optic</td>\n",
       "      <td>Credit card (automatic)</td>\n",
       "      <td>0</td>\n",
       "      <td>0</td>\n",
       "      <td>0</td>\n",
       "      <td>1</td>\n",
       "      <td>1</td>\n",
       "      <td>0</td>\n",
       "      <td>0</td>\n",
       "      <td>0</td>\n",
       "      <td>1</td>\n",
       "      <td>1</td>\n",
       "      <td>0</td>\n",
       "      <td>0</td>\n",
       "      <td>1</td>\n",
       "      <td>0</td>\n",
       "      <td>0</td>\n",
       "      <td>0</td>\n",
       "      <td>0</td>\n",
       "      <td>1</td>\n",
       "      <td>1</td>\n",
       "      <td>0</td>\n",
       "      <td>0</td>\n",
       "      <td>0</td>\n",
       "      <td>0</td>\n",
       "      <td>1</td>\n",
       "      <td>1</td>\n",
       "      <td>0</td>\n",
       "      <td>0</td>\n",
       "      <td>0</td>\n",
       "      <td>1</td>\n",
       "      <td>0</td>\n",
       "      <td>0</td>\n",
       "      <td>1</td>\n",
       "      <td>0</td>\n",
       "      <td>0</td>\n",
       "      <td>1</td>\n",
       "      <td>0</td>\n",
       "      <td>0</td>\n",
       "    </tr>\n",
       "  </tbody>\n",
       "</table>\n",
       "</div>"
      ],
      "text/plain": [
       "     customer_id  gender  senior_citizen partner dependents  tenure  \\\n",
       "6212  8780-YRMTT  Female               0      No         No      66   \n",
       "1669  2432-TFSMK    Male               0      No         No      18   \n",
       "\n",
       "     phone_service    multiple_lines online_security online_backup  \\\n",
       "6212            No  No phone service             Yes           Yes   \n",
       "1669           Yes               Yes              No            No   \n",
       "\n",
       "     device_protection tech_support streaming_tv streaming_movies  \\\n",
       "6212               Yes          Yes           No               No   \n",
       "1669               Yes           No          Yes               No   \n",
       "\n",
       "     paperless_billing  monthly_charges  total_charges churn contract_type  \\\n",
       "6212               Yes             47.4        3177.25    No      Two year   \n",
       "1669               Yes             89.6        1633.00    No      One year   \n",
       "\n",
       "     internet_service_type             payment_type  gender_encoded  \\\n",
       "6212                   DSL             Mailed check               1   \n",
       "1669           Fiber optic  Credit card (automatic)               0   \n",
       "\n",
       "      partner_encoded  dependents_encoded  phone_service_encoded  \\\n",
       "6212                0                   0                      0   \n",
       "1669                0                   0                      1   \n",
       "\n",
       "      paperless_billing_encoded  churn_encoded  multiple_lines_No  \\\n",
       "6212                          1              0                  0   \n",
       "1669                          1              0                  0   \n",
       "\n",
       "      multiple_lines_No phone service  multiple_lines_Yes  online_security_No  \\\n",
       "6212                                1                   0                   0   \n",
       "1669                                0                   1                   1   \n",
       "\n",
       "      online_security_No internet service  online_security_Yes  \\\n",
       "6212                                    0                    1   \n",
       "1669                                    0                    0   \n",
       "\n",
       "      online_backup_No  online_backup_No internet service  online_backup_Yes  \\\n",
       "6212                 0                                  0                  1   \n",
       "1669                 1                                  0                  0   \n",
       "\n",
       "      device_protection_No  device_protection_No internet service  \\\n",
       "6212                     0                                      0   \n",
       "1669                     0                                      0   \n",
       "\n",
       "      device_protection_Yes  tech_support_No  \\\n",
       "6212                      1                0   \n",
       "1669                      1                1   \n",
       "\n",
       "      tech_support_No internet service  tech_support_Yes  streaming_tv_No  \\\n",
       "6212                                 0                 1                1   \n",
       "1669                                 0                 0                0   \n",
       "\n",
       "      streaming_tv_No internet service  streaming_tv_Yes  streaming_movies_No  \\\n",
       "6212                                 0                 0                    1   \n",
       "1669                                 0                 1                    1   \n",
       "\n",
       "      streaming_movies_No internet service  streaming_movies_Yes  \\\n",
       "6212                                     0                     0   \n",
       "1669                                     0                     0   \n",
       "\n",
       "      contract_type_Month-to-month  contract_type_One year  \\\n",
       "6212                             0                       0   \n",
       "1669                             0                       1   \n",
       "\n",
       "      contract_type_Two year  internet_service_type_DSL  \\\n",
       "6212                       1                          1   \n",
       "1669                       0                          0   \n",
       "\n",
       "      internet_service_type_Fiber optic  internet_service_type_None  \\\n",
       "6212                                  0                           0   \n",
       "1669                                  1                           0   \n",
       "\n",
       "      payment_type_Bank transfer (automatic)  \\\n",
       "6212                                       0   \n",
       "1669                                       0   \n",
       "\n",
       "      payment_type_Credit card (automatic)  payment_type_Electronic check  \\\n",
       "6212                                     0                              0   \n",
       "1669                                     1                              0   \n",
       "\n",
       "      payment_type_Mailed check  \n",
       "6212                          1  \n",
       "1669                          0  "
      ]
     },
     "execution_count": 9,
     "metadata": {},
     "output_type": "execute_result"
    }
   ],
   "source": [
    "from splitter import splitter\n",
    "df_train, df_validate, df_test = splitter(df, target = 'churn')\n",
    "df_train.sample(2)"
   ]
  },
  {
   "cell_type": "markdown",
   "id": "1c2d7597",
   "metadata": {},
   "source": [
    "## Bivariate Analysis"
   ]
  },
  {
   "cell_type": "code",
   "execution_count": null,
   "id": "6e952e8c",
   "metadata": {},
   "outputs": [],
   "source": [
    "df_train.info()"
   ]
  },
  {
   "cell_type": "markdown",
   "id": "82529085",
   "metadata": {},
   "source": [
    "### Create categorical and numerical lists.  For numerical remove all encoded variables."
   ]
  },
  {
   "cell_type": "code",
   "execution_count": 10,
   "id": "9e24668f",
   "metadata": {},
   "outputs": [],
   "source": [
    "from EDA_functions import explore_bivariate\n",
    "df_train_cat_vars = [col for col in df_train.columns if df_train[col].dtype == 'object']\n",
    "df_train_num_vars = [col for col in df_train.columns if df_train[col].dtype != 'object'][1:4]"
   ]
  },
  {
   "cell_type": "code",
   "execution_count": 11,
   "id": "f04ef4cc",
   "metadata": {},
   "outputs": [
    {
     "data": {
      "text/plain": [
       "(['customer_id',\n",
       "  'gender',\n",
       "  'partner',\n",
       "  'dependents',\n",
       "  'phone_service',\n",
       "  'multiple_lines',\n",
       "  'online_security',\n",
       "  'online_backup',\n",
       "  'device_protection',\n",
       "  'tech_support',\n",
       "  'streaming_tv',\n",
       "  'streaming_movies',\n",
       "  'paperless_billing',\n",
       "  'churn',\n",
       "  'contract_type',\n",
       "  'internet_service_type',\n",
       "  'payment_type'],\n",
       " ['tenure', 'monthly_charges', 'total_charges'])"
      ]
     },
     "execution_count": 11,
     "metadata": {},
     "output_type": "execute_result"
    }
   ],
   "source": [
    "df_train_cat_vars, df_train_num_vars"
   ]
  },
  {
   "cell_type": "markdown",
   "id": "e1db27b5",
   "metadata": {},
   "source": [
    "### Most variables are categorical, so using a bivariate exploration function to look at all of them vs churn to see which have an impact on churn.  "
   ]
  },
  {
   "cell_type": "code",
   "execution_count": 12,
   "id": "131bf7d6",
   "metadata": {},
   "outputs": [],
   "source": [
    "from EDA_functions import explore_bivariate"
   ]
  },
  {
   "cell_type": "markdown",
   "id": "02bc63dd",
   "metadata": {},
   "source": [
    "#### Senior citizen was already 'encoded' as an integer and therefore did not appear in the categorical list pulled from the dataframe info, so seperately did this one:"
   ]
  },
  {
   "cell_type": "code",
   "execution_count": 13,
   "id": "eb9e4094",
   "metadata": {},
   "outputs": [
    {
     "name": "stdout",
     "output_type": "stream",
     "text": [
      "customer_id \n",
      "_____________________\n",
      "\n",
      "     chi2   p-value  degrees of freedom\n",
      "0  3937.0  0.492507                3936\n",
      "\n",
      "observed:\n",
      " churn_encoded     0     1   All\n",
      "customer_id                    \n",
      "0002-ORFBO        1     0     1\n",
      "0003-MKNFE        1     0     1\n",
      "0004-TLHLJ        0     1     1\n",
      "0011-IGKFF        0     1     1\n",
      "0013-EXCHZ        0     1     1\n",
      "...             ...   ...   ...\n",
      "9979-RGMZT        1     0     1\n",
      "9986-BONCE        0     1     1\n",
      "9992-RRAMN        0     1     1\n",
      "9993-LHIEB        1     0     1\n",
      "All            2891  1046  3937\n",
      "\n",
      "[3938 rows x 3 columns]\n",
      "\n",
      "expected:\n",
      "              0         1\n",
      "0     0.734315  0.265685\n",
      "1     0.734315  0.265685\n",
      "2     0.734315  0.265685\n",
      "3     0.734315  0.265685\n",
      "4     0.734315  0.265685\n",
      "...        ...       ...\n",
      "3932  0.734315  0.265685\n",
      "3933  0.734315  0.265685\n",
      "3934  0.734315  0.265685\n",
      "3935  0.734315  0.265685\n",
      "3936  0.734315  0.265685\n",
      "\n",
      "[3937 rows x 2 columns]\n"
     ]
    },
    {
     "data": {
      "image/png": "[encoded data removed]",
      "text/plain": [
       "<Figure size 144x144 with 1 Axes>"
      ]
     },
     "metadata": {
      "needs_background": "light"
     },
     "output_type": "display_data"
    },
    {
     "name": "stdout",
     "output_type": "stream",
     "text": [
      "\n",
      "_____________________\n",
      "\n",
      "gender \n",
      "_____________________\n",
      "\n",
      "   chi2  p-value  degrees of freedom\n",
      "0   0.0      1.0                   1\n",
      "\n",
      "observed:\n",
      " churn_encoded     0     1   All\n",
      "gender                         \n",
      "Female         1440   521  1961\n",
      "Male           1451   525  1976\n",
      "All            2891  1046  3937\n",
      "\n",
      "expected:\n",
      "              0           1\n",
      "0  1439.992634  521.007366\n",
      "1  1451.007366  524.992634\n"
     ]
    },
    {
     "data": {
      "image/png": "[encoded data removed]",
      "text/plain": [
       "<Figure size 144x144 with 1 Axes>"
      ]
     },
     "metadata": {
      "needs_background": "light"
     },
     "output_type": "display_data"
    },
    {
     "name": "stdout",
     "output_type": "stream",
     "text": [
      "\n",
      "_____________________\n",
      "\n",
      "partner \n",
      "_____________________\n",
      "\n",
      "        chi2       p-value  degrees of freedom\n",
      "0  80.089329  3.578599e-19                   1\n",
      "\n",
      "observed:\n",
      " churn_encoded     0     1   All\n",
      "partner                        \n",
      "No             1364   663  2027\n",
      "Yes            1527   383  1910\n",
      "All            2891  1046  3937\n",
      "\n",
      "expected:\n",
      "              0           1\n",
      "0  1488.457455  538.542545\n",
      "1  1402.542545  507.457455\n"
     ]
    },
    {
     "data": {
      "image/png": "[encoded data removed]",
      "text/plain": [
       "<Figure size 144x144 with 1 Axes>"
      ]
     },
     "metadata": {
      "needs_background": "light"
     },
     "output_type": "display_data"
    },
    {
     "name": "stdout",
     "output_type": "stream",
     "text": [
      "\n",
      "_____________________\n",
      "\n",
      "dependents \n",
      "_____________________\n",
      "\n",
      "         chi2       p-value  degrees of freedom\n",
      "0  104.542502  1.538574e-24                   1\n",
      "\n",
      "observed:\n",
      " churn_encoded     0     1   All\n",
      "dependents                     \n",
      "No             1885   860  2745\n",
      "Yes            1006   186  1192\n",
      "All            2891  1046  3937\n",
      "\n",
      "expected:\n",
      "              0           1\n",
      "0  2015.695961  729.304039\n",
      "1   875.304039  316.695961\n"
     ]
    },
    {
     "data": {
      "image/png": "[encoded data removed]",
      "text/plain": [
       "<Figure size 144x144 with 1 Axes>"
      ]
     },
     "metadata": {
      "needs_background": "light"
     },
     "output_type": "display_data"
    },
    {
     "name": "stdout",
     "output_type": "stream",
     "text": [
      "\n",
      "_____________________\n",
      "\n",
      "phone_service \n",
      "_____________________\n",
      "\n",
      "       chi2   p-value  degrees of freedom\n",
      "0  0.876869  0.349061                   1\n",
      "\n",
      "observed:\n",
      " churn_encoded     0     1   All\n",
      "phone_service                  \n",
      "No              282    91   373\n",
      "Yes            2609   955  3564\n",
      "All            2891  1046  3937\n",
      "\n",
      "expected:\n",
      "             0          1\n",
      "0   273.89967   99.10033\n",
      "1  2617.10033  946.89967\n"
     ]
    },
    {
     "data": {
      "image/png": "[encoded data removed]",
      "text/plain": [
       "<Figure size 144x144 with 1 Axes>"
      ]
     },
     "metadata": {
      "needs_background": "light"
     },
     "output_type": "display_data"
    },
    {
     "name": "stdout",
     "output_type": "stream",
     "text": [
      "\n",
      "_____________________\n",
      "\n",
      "multiple_lines \n",
      "_____________________\n",
      "\n",
      "        chi2   p-value  degrees of freedom\n",
      "0  11.077952  0.003931                   2\n",
      "\n",
      "observed:\n",
      " churn_encoded        0     1   All\n",
      "multiple_lines                    \n",
      "No                1429   466  1895\n",
      "No phone service   282    91   373\n",
      "Yes               1180   489  1669\n",
      "All               2891  1046  3937\n",
      "\n",
      "expected:\n",
      "              0           1\n",
      "0  1391.527813  503.472187\n",
      "1   273.899670   99.100330\n",
      "2  1225.572517  443.427483\n"
     ]
    },
    {
     "data": {
      "image/png": "[encoded data removed]",
      "text/plain": [
       "<Figure size 144x144 with 1 Axes>"
      ]
     },
     "metadata": {
      "needs_background": "light"
     },
     "output_type": "display_data"
    },
    {
     "name": "stdout",
     "output_type": "stream",
     "text": [
      "\n",
      "_____________________\n",
      "\n",
      "online_security \n",
      "_____________________\n",
      "\n",
      "         chi2        p-value  degrees of freedom\n",
      "0  510.520615  1.386300e-111                   2\n",
      "\n",
      "observed:\n",
      " churn_encoded           0     1   All\n",
      "online_security                      \n",
      "No                   1099   819  1918\n",
      "No internet service   803    64   867\n",
      "Yes                   989   163  1152\n",
      "All                  2891  1046  3937\n",
      "\n",
      "expected:\n",
      "              0           1\n",
      "0  1408.417069  509.582931\n",
      "1   636.651511  230.348489\n",
      "2   845.931420  306.068580\n"
     ]
    },
    {
     "data": {
      "image/png": "[encoded data removed]",
      "text/plain": [
       "<Figure size 144x144 with 1 Axes>"
      ]
     },
     "metadata": {
      "needs_background": "light"
     },
     "output_type": "display_data"
    },
    {
     "name": "stdout",
     "output_type": "stream",
     "text": [
      "\n",
      "_____________________\n",
      "\n",
      "online_backup \n",
      "_____________________\n",
      "\n",
      "         chi2       p-value  degrees of freedom\n",
      "0  326.015433  1.609342e-71                   2\n",
      "\n",
      "observed:\n",
      " churn_encoded           0     1   All\n",
      "online_backup                        \n",
      "No                   1023   674  1697\n",
      "No internet service   803    64   867\n",
      "Yes                  1065   308  1373\n",
      "All                  2891  1046  3937\n",
      "\n",
      "expected:\n",
      "              0           1\n",
      "0  1246.133350  450.866650\n",
      "1   636.651511  230.348489\n",
      "2  1008.215138  364.784862\n"
     ]
    },
    {
     "data": {
      "image/png": "[encoded data removed]",
      "text/plain": [
       "<Figure size 144x144 with 1 Axes>"
      ]
     },
     "metadata": {
      "needs_background": "light"
     },
     "output_type": "display_data"
    },
    {
     "name": "stdout",
     "output_type": "stream",
     "text": [
      "\n",
      "_____________________\n",
      "\n",
      "device_protection \n",
      "_____________________\n",
      "\n",
      "         chi2       p-value  degrees of freedom\n",
      "0  314.354955  5.478843e-69                   2\n",
      "\n",
      "observed:\n",
      " churn_encoded           0     1   All\n",
      "device_protection                    \n",
      "No                   1027   666  1693\n",
      "No internet service   803    64   867\n",
      "Yes                  1061   316  1377\n",
      "All                  2891  1046  3937\n",
      "\n",
      "expected:\n",
      "              0           1\n",
      "0  1243.196088  449.803912\n",
      "1   636.651511  230.348489\n",
      "2  1011.152400  365.847600\n"
     ]
    },
    {
     "data": {
      "image/png": "[encoded data removed]",
      "text/plain": [
       "<Figure size 144x144 with 1 Axes>"
      ]
     },
     "metadata": {
      "needs_background": "light"
     },
     "output_type": "display_data"
    },
    {
     "name": "stdout",
     "output_type": "stream",
     "text": [
      "\n",
      "_____________________\n",
      "\n",
      "tech_support \n",
      "_____________________\n",
      "\n",
      "         chi2        p-value  degrees of freedom\n",
      "0  460.871935  8.373959e-101                   2\n",
      "\n",
      "observed:\n",
      " churn_encoded           0     1   All\n",
      "tech_support                         \n",
      "No                   1126   805  1931\n",
      "No internet service   803    64   867\n",
      "Yes                   962   177  1139\n",
      "All                  2891  1046  3937\n",
      "\n",
      "expected:\n",
      "              0           1\n",
      "0  1417.963170  513.036830\n",
      "1   636.651511  230.348489\n",
      "2   836.385319  302.614681\n"
     ]
    },
    {
     "data": {
      "image/png": "[encoded data removed]",
      "text/plain": [
       "<Figure size 144x144 with 1 Axes>"
      ]
     },
     "metadata": {
      "needs_background": "light"
     },
     "output_type": "display_data"
    },
    {
     "name": "stdout",
     "output_type": "stream",
     "text": [
      "\n",
      "_____________________\n",
      "\n",
      "streaming_tv \n",
      "_____________________\n",
      "\n",
      "         chi2       p-value  degrees of freedom\n",
      "0  226.175317  7.702893e-50                   2\n",
      "\n",
      "observed:\n",
      " churn_encoded           0     1   All\n",
      "streaming_tv                         \n",
      "No                   1004   545  1549\n",
      "No internet service   803    64   867\n",
      "Yes                  1084   437  1521\n",
      "All                  2891  1046  3937\n",
      "\n",
      "expected:\n",
      "              0           1\n",
      "0  1137.454661  411.545339\n",
      "1   636.651511  230.348489\n",
      "2  1116.893828  404.106172\n"
     ]
    },
    {
     "data": {
      "image/png": "[encoded data removed]",
      "text/plain": [
       "<Figure size 144x144 with 1 Axes>"
      ]
     },
     "metadata": {
      "needs_background": "light"
     },
     "output_type": "display_data"
    },
    {
     "name": "stdout",
     "output_type": "stream",
     "text": [
      "\n",
      "_____________________\n",
      "\n",
      "streaming_movies \n",
      "_____________________\n",
      "\n",
      "         chi2       p-value  degrees of freedom\n",
      "0  220.438256  1.356566e-48                   2\n",
      "\n",
      "observed:\n",
      " churn_encoded           0     1   All\n",
      "streaming_movies                     \n",
      "No                   1000   529  1529\n",
      "No internet service   803    64   867\n",
      "Yes                  1088   453  1541\n",
      "All                  2891  1046  3937\n",
      "\n",
      "expected:\n",
      "              0           1\n",
      "0  1122.768352  406.231648\n",
      "1   636.651511  230.348489\n",
      "2  1131.580137  409.419863\n"
     ]
    },
    {
     "data": {
      "image/png": "[encoded data removed]",
      "text/plain": [
       "<Figure size 144x144 with 1 Axes>"
      ]
     },
     "metadata": {
      "needs_background": "light"
     },
     "output_type": "display_data"
    },
    {
     "name": "stdout",
     "output_type": "stream",
     "text": [
      "\n",
      "_____________________\n",
      "\n",
      "paperless_billing \n",
      "_____________________\n",
      "\n",
      "         chi2       p-value  degrees of freedom\n",
      "0  141.364215  1.339372e-32                   1\n",
      "\n",
      "observed:\n",
      " churn_encoded         0     1   All\n",
      "paperless_billing                  \n",
      "No                 1347   266  1613\n",
      "Yes                1544   780  2324\n",
      "All                2891  1046  3937\n",
      "\n",
      "expected:\n",
      "              0           1\n",
      "0  1184.450851  428.549149\n",
      "1  1706.549149  617.450851\n"
     ]
    },
    {
     "data": {
      "image/png": "[encoded data removed]",
      "text/plain": [
       "<Figure size 144x144 with 1 Axes>"
      ]
     },
     "metadata": {
      "needs_background": "light"
     },
     "output_type": "display_data"
    },
    {
     "name": "stdout",
     "output_type": "stream",
     "text": [
      "\n",
      "_____________________\n",
      "\n",
      "churn \n",
      "_____________________\n",
      "\n",
      "          chi2  p-value  degrees of freedom\n",
      "0  3931.875993      0.0                   1\n",
      "\n",
      "observed:\n",
      " churn_encoded     0     1   All\n",
      "churn                          \n",
      "No             2891     0  2891\n",
      "Yes               0  1046  1046\n",
      "All            2891  1046  3937\n",
      "\n",
      "expected:\n",
      "             0          1\n",
      "0  2122.90602  768.09398\n",
      "1   768.09398  277.90602\n"
     ]
    },
    {
     "data": {
      "image/png": "[encoded data removed]",
      "text/plain": [
       "<Figure size 144x144 with 1 Axes>"
      ]
     },
     "metadata": {
      "needs_background": "light"
     },
     "output_type": "display_data"
    },
    {
     "name": "stdout",
     "output_type": "stream",
     "text": [
      "\n",
      "_____________________\n",
      "\n",
      "contract_type \n",
      "_____________________\n",
      "\n",
      "         chi2        p-value  degrees of freedom\n",
      "0  664.657249  4.693667e-145                   2\n",
      "\n",
      "observed:\n",
      " churn_encoded      0     1   All\n",
      "contract_type                   \n",
      "Month-to-month  1238   927  2165\n",
      "One year         726    89   815\n",
      "Two year         927    30   957\n",
      "All             2891  1046  3937\n",
      "\n",
      "expected:\n",
      "              0           1\n",
      "0  1589.792990  575.207010\n",
      "1   598.467107  216.532893\n",
      "2   702.739903  254.260097\n"
     ]
    },
    {
     "data": {
      "image/png": "[encoded data removed]",
      "text/plain": [
       "<Figure size 144x144 with 1 Axes>"
      ]
     },
     "metadata": {
      "needs_background": "light"
     },
     "output_type": "display_data"
    },
    {
     "name": "stdout",
     "output_type": "stream",
     "text": [
      "\n",
      "_____________________\n",
      "\n",
      "internet_service_type \n",
      "_____________________\n",
      "\n",
      "         chi2       p-value  degrees of freedom\n",
      "0  439.766148  3.206227e-96                   2\n",
      "\n",
      "observed:\n",
      " churn_encoded             0     1   All\n",
      "internet_service_type                  \n",
      "DSL                    1101   247  1348\n",
      "Fiber optic             987   735  1722\n",
      "None                    803    64   867\n",
      "All                    2891  1046  3937\n",
      "\n",
      "expected:\n",
      "              0           1\n",
      "0   989.857252  358.142748\n",
      "1  1264.491237  457.508763\n",
      "2   636.651511  230.348489\n"
     ]
    },
    {
     "data": {
      "image/png": "[encoded data removed]",
      "text/plain": [
       "<Figure size 144x144 with 1 Axes>"
      ]
     },
     "metadata": {
      "needs_background": "light"
     },
     "output_type": "display_data"
    },
    {
     "name": "stdout",
     "output_type": "stream",
     "text": [
      "\n",
      "_____________________\n",
      "\n",
      "payment_type \n",
      "_____________________\n",
      "\n",
      "         chi2       p-value  degrees of freedom\n",
      "0  338.485229  4.643588e-73                   3\n",
      "\n",
      "observed:\n",
      " churn_encoded                 0     1   All\n",
      "payment_type                               \n",
      "Bank transfer (automatic)   713   149   862\n",
      "Credit card (automatic)     750   145   895\n",
      "Electronic check            708   581  1289\n",
      "Mailed check                720   171   891\n",
      "All                        2891  1046  3937\n",
      "\n",
      "expected:\n",
      "             0           1\n",
      "0  632.979934  229.020066\n",
      "1  657.212344  237.787656\n",
      "2  946.532639  342.467361\n",
      "3  654.275083  236.724917\n"
     ]
    },
    {
     "data": {
      "image/png": "[encoded data removed]",
      "text/plain": [
       "<Figure size 144x144 with 1 Axes>"
      ]
     },
     "metadata": {
      "needs_background": "light"
     },
     "output_type": "display_data"
    },
    {
     "name": "stdout",
     "output_type": "stream",
     "text": [
      "\n",
      "_____________________\n",
      "\n",
      "tenure \n",
      "____________________\n",
      "\n"
     ]
    },
    {
     "data": {
      "image/png": "[encoded data removed]",
      "text/plain": [
       "<Figure size 288x288 with 1 Axes>"
      ]
     },
     "metadata": {
      "needs_background": "light"
     },
     "output_type": "display_data"
    },
    {
     "name": "stdout",
     "output_type": "stream",
     "text": [
      "                count       mean        std  min   25%   50%   75%   max\n",
      "churn_encoded                                                           \n",
      "0              2891.0  38.003459  24.177715  1.0  15.0  39.0  61.0  72.0\n",
      "1              1046.0  18.325048  19.960763  1.0   2.0  10.0  31.0  72.0 \n",
      "\n",
      "\n",
      "Mann-Whitney Test:\n",
      " MannwhitneyuResult(statistic=2237485.5, pvalue=1.7462087268198276e-117)\n",
      "\n",
      "____________________\n",
      "\n",
      "monthly_charges \n",
      "____________________\n",
      "\n"
     ]
    },
    {
     "data": {
      "image/png": "[encoded data removed]",
      "text/plain": [
       "<Figure size 288x288 with 1 Axes>"
      ]
     },
     "metadata": {
      "needs_background": "light"
     },
     "output_type": "display_data"
    },
    {
     "name": "stdout",
     "output_type": "stream",
     "text": [
      "                count       mean        std    min     25%    50%      75%  \\\n",
      "churn_encoded                                                                \n",
      "0              2891.0  61.218091  31.349533  18.25  25.000  64.50  89.0250   \n",
      "1              1046.0  74.719216  24.593969  18.85  59.525  79.85  94.2375   \n",
      "\n",
      "                  max  \n",
      "churn_encoded          \n",
      "0              118.65  \n",
      "1              118.35   \n",
      "\n",
      "\n",
      "Mann-Whitney Test:\n",
      " MannwhitneyuResult(statistic=1140707.5, pvalue=4.601429737222539e-32)\n",
      "\n",
      "____________________\n",
      "\n",
      "total_charges \n",
      "____________________\n",
      "\n"
     ]
    },
    {
     "data": {
      "image/png": "[encoded data removed]",
      "text/plain": [
       "<Figure size 288x288 with 1 Axes>"
      ]
     },
     "metadata": {
      "needs_background": "light"
     },
     "output_type": "display_data"
    },
    {
     "name": "stdout",
     "output_type": "stream",
     "text": [
      "                count         mean          std    min       25%       50%  \\\n",
      "churn_encoded                                                                \n",
      "0              2891.0  2583.071792  2343.182641  18.85  574.4250  1718.200   \n",
      "1              1046.0  1580.769742  1934.641968  18.85  116.5875   699.475   \n",
      "\n",
      "                    75%     max  \n",
      "churn_encoded                    \n",
      "0              4369.550  8594.4  \n",
      "1              2514.025  8109.8   \n",
      "\n",
      "\n",
      "Mann-Whitney Test:\n",
      " MannwhitneyuResult(statistic=1962317.5, pvalue=2.3468103663029577e-46)\n",
      "\n",
      "____________________\n",
      "\n"
     ]
    }
   ],
   "source": [
    "explore_bivariate(df_train,'churn_encoded',df_train_cat_vars,df_train_num_vars)"
   ]
  },
  {
   "cell_type": "markdown",
   "id": "50fb59cf",
   "metadata": {},
   "source": [
    "Followed up using this technique to determine impact of cat variables, as well as determine their independence (or lack thereof) from each other:"
   ]
  },
  {
   "cell_type": "code",
   "execution_count": null,
   "id": "4dc9c233",
   "metadata": {},
   "outputs": [],
   "source": [
    "import itertools\n",
    "from scipy import stats"
   ]
  },
  {
   "cell_type": "code",
   "execution_count": null,
   "id": "b8c0f8de",
   "metadata": {},
   "outputs": [],
   "source": [
    "explore_bivariate(df_train,'churn_encoded',['senior_citizen'])#,df_train_num_vars)"
   ]
  },
  {
   "cell_type": "code",
   "execution_count": null,
   "id": "43b3d5af",
   "metadata": {},
   "outputs": [],
   "source": [
    "combinations = list(itertools.combinations(df_train_cat_vars, 2))\n",
    "combinations"
   ]
  },
  {
   "cell_type": "code",
   "execution_count": null,
   "id": "72004ca2",
   "metadata": {},
   "outputs": [],
   "source": [
    "alpha = 0.05\n",
    "outcomes = []\n",
    "for combination in combinations:\n",
    "    outcome = {}\n",
    "    outcome[\"column1\"] = combination[0]\n",
    "    outcome[\"column2\"] = combination[1]\n",
    "\n",
    "    observed = pd.crosstab(df[combination[0]], df[combination[1]])\n",
    "    \n",
    "    chi2, p, degf, expected = stats.chi2_contingency(observed)\n",
    "    \n",
    "    outcome[\"p\"] = p\n",
    "    \n",
    "    if p < alpha:\n",
    "        outcome[\"reject_null\"] = True\n",
    "    else:\n",
    "        outcome[\"reject_null\"] = False\n",
    "    \n",
    "    outcomes.append(outcome)\n",
    "\n",
    "pd.set_option('display.max_rows', None)    \n",
    "pd.DataFrame(outcomes)\n"
   ]
  },
  {
   "cell_type": "markdown",
   "id": "ff172cb8",
   "metadata": {},
   "source": [
    "#### Plot to examine the relationship between tenure, monthly charges and churn."
   ]
  },
  {
   "cell_type": "markdown",
   "id": "578905a5",
   "metadata": {},
   "source": [
    "### Comparing monthly charges to churn using t-tests:"
   ]
  },
  {
   "cell_type": "markdown",
   "id": "629c1291",
   "metadata": {},
   "source": [
    "Seperate train set data into churned and not churned dfs"
   ]
  },
  {
   "cell_type": "code",
   "execution_count": null,
   "id": "8858ffa9",
   "metadata": {},
   "outputs": [],
   "source": [
    "train_churn_sample = df_train[df_train.churn == 'Yes']\n",
    "train_nochurn_sample = df_train[df_train.churn == 'No']"
   ]
  },
  {
   "cell_type": "markdown",
   "id": "1e91384d",
   "metadata": {},
   "source": [
    "One sided t-test against population mean:"
   ]
  },
  {
   "cell_type": "code",
   "execution_count": null,
   "id": "f06f6efc",
   "metadata": {},
   "outputs": [],
   "source": [
    "overall_mean = df_train.monthly_charges.mean()\n",
    "\n",
    "t, p = stats.ttest_1samp(train_churn_sample.monthly_charges, overall_mean)\n",
    "t, p/2"
   ]
  },
  {
   "cell_type": "markdown",
   "id": "95aa4e57",
   "metadata": {},
   "source": [
    "One sided t-test comparing churn vs non-churned means:"
   ]
  },
  {
   "cell_type": "code",
   "execution_count": null,
   "id": "9a42c5c8",
   "metadata": {},
   "outputs": [],
   "source": [
    "t, p = stats.ttest_ind(train_churn_sample.monthly_charges, train_nochurn_sample.monthly_charges, equal_var=False)\n",
    "t, p / 2"
   ]
  },
  {
   "cell_type": "markdown",
   "id": "0e333b1d",
   "metadata": {},
   "source": [
    "NOTE: Total charges not particularly useful because those who churn quickly have low total charges, but so do those who have long tenure of just phone services."
   ]
  },
  {
   "cell_type": "markdown",
   "id": "58e69f04",
   "metadata": {},
   "source": [
    "### Both t-test support the alternative hypothesis, that monthly charges do effect churn negatively."
   ]
  },
  {
   "cell_type": "markdown",
   "id": "6a668d7d",
   "metadata": {},
   "source": [
    "##### As such, let's do some dataframe grouping of different variables to see how they effect cost."
   ]
  },
  {
   "cell_type": "markdown",
   "id": "3c9cbdbe",
   "metadata": {},
   "source": [
    "## Multivariate Analysis"
   ]
  },
  {
   "cell_type": "code",
   "execution_count": null,
   "id": "98e4b4b3",
   "metadata": {},
   "outputs": [],
   "source": [
    "sns.relplot(data=df_train, x='tenure', y='monthly_charges', hue='churn')"
   ]
  },
  {
   "cell_type": "code",
   "execution_count": null,
   "id": "6583e151",
   "metadata": {},
   "outputs": [],
   "source": [
    "for col in df_train_cat_vars:\n",
    "    plt.figure(figsize=(12, 6))\n",
    "    sns.boxplot(data=df_train, x=col,y='monthly_charges',hue='churn')\n",
    "    plt.show()"
   ]
  },
  {
   "cell_type": "markdown",
   "id": "1fc98b93",
   "metadata": {},
   "source": [
    "# Classification Analysis"
   ]
  },
  {
   "cell_type": "code",
   "execution_count": null,
   "id": "80572266",
   "metadata": {},
   "outputs": [],
   "source": [
    "# drop all non-numeric columns except churn, but drop churn_encoded as well\n",
    "columns_to_drop = ['gender', 'partner', 'dependents',\n",
    "       'phone_service', 'multiple_lines', 'online_security', 'online_backup',\n",
    "       'device_protection', 'tech_support', 'streaming_tv', 'streaming_movies',\n",
    "       'paperless_billing', 'contract_type', 'internet_service_type', 'payment_type','churn_encoded']"
   ]
  },
  {
   "cell_type": "code",
   "execution_count": null,
   "id": "10e8e278",
   "metadata": {},
   "outputs": [],
   "source": [
    "df_train_encoded = df_train.drop(columns=columns_to_drop)\n",
    "df_validate_encoded = df_validate.drop(columns=columns_to_drop)\n",
    "df_test_encoded = df_test.drop(columns=columns_to_drop)"
   ]
  },
  {
   "cell_type": "code",
   "execution_count": null,
   "id": "eff20b7e",
   "metadata": {},
   "outputs": [],
   "source": [
    "# Split dataframes into target and non-target sets for modeling\n",
    "X_train = df_train_encoded.drop(columns=[\"churn\"])\n",
    "y_train = df_train_encoded.churn\n",
    "\n",
    "X_validate = df_validate_encoded.drop(columns=[\"churn\"])\n",
    "y_validate = df_validate_encoded.churn\n",
    "\n",
    "X_test = df_test_encoded.drop(columns=[\"churn\"])\n",
    "y_test = df_test_encoded.churn"
   ]
  },
  {
   "cell_type": "code",
   "execution_count": null,
   "id": "0b9aba9c",
   "metadata": {},
   "outputs": [],
   "source": [
    "# run baseline\n",
    "baseline = y_train.mode()\n",
    "# Produce a boolean array with True representing a match between the baseline prediction and reality\n",
    "matches_baseline_prediction = (y_train == baseline.values[0])\n",
    "baseline_accuracy = matches_baseline_prediction.mean()\n",
    "print(f\"Baseline accuracy: {round(baseline_accuracy, 2)}\")"
   ]
  },
  {
   "cell_type": "markdown",
   "id": "9ee79270",
   "metadata": {},
   "source": [
    "#### Models must have higher accuracy than 73% to be considered."
   ]
  },
  {
   "cell_type": "code",
   "execution_count": null,
   "id": "6f09718f",
   "metadata": {},
   "outputs": [],
   "source": [
    "from matrix_result import matrix_result_2d\n",
    "from sklearn.tree import DecisionTreeClassifier\n",
    "from sklearn.metrics import confusion_matrix"
   ]
  },
  {
   "cell_type": "markdown",
   "id": "fbd869b2",
   "metadata": {},
   "source": [
    "### Decision Tree Hyperparameter Tuning"
   ]
  },
  {
   "cell_type": "code",
   "execution_count": null,
   "id": "7b804d1a",
   "metadata": {},
   "outputs": [],
   "source": [
    "# decision tree with multiple hypers\n",
    "# create, fit, loop, sneak in validate and subtract\n",
    "tree_metrics = []\n",
    "\n",
    "for i in range(1,10):\n",
    "    tree = DecisionTreeClassifier(max_depth=i, random_state=123)\n",
    "\n",
    "# Fit the model (on train)\n",
    "    tree = tree.fit(X_train, y_train)\n",
    "    in_sample = tree.score(X_train, y_train)\n",
    "    y_pred = tree.predict(X_train)\n",
    "\n",
    "# Add to matrix_results_2d which is the report we'll look at\n",
    "    result = pd.DataFrame(confusion_matrix(y_train, y_pred))\n",
    "    results = matrix_result_2d(result)\n",
    "    results['depth'] = i\n",
    "\n",
    "# Do a quick validation fit and score just to see how the change in each hyperparameter effects overfit\n",
    "    out_of_sample = tree.score(X_validate, y_validate)\n",
    "    results['fit'] = in_sample - out_of_sample\n",
    "    \n",
    "    tree_metrics.append(results)\n",
    "\n",
    "df_tree_results = pd.DataFrame(tree_metrics).round(2).set_index('depth')\n",
    "df_tree_results"
   ]
  },
  {
   "cell_type": "markdown",
   "id": "2492cf0c",
   "metadata": {},
   "source": [
    "#### Depth = 4 optimizes for fit and precision."
   ]
  },
  {
   "cell_type": "markdown",
   "id": "9e5f171e",
   "metadata": {},
   "source": [
    "### Random Forest Hyperparameter Tuning"
   ]
  },
  {
   "cell_type": "code",
   "execution_count": null,
   "id": "3050890a",
   "metadata": {},
   "outputs": [],
   "source": [
    "# random forest with multiple hypers\n",
    "from sklearn.ensemble import RandomForestClassifier\n",
    "forest_metrics = []\n",
    "\n",
    "for i in range(1,10):\n",
    "    for j in range(10,0,-1):\n",
    "        forest = RandomForestClassifier(max_depth=i, min_samples_leaf = j,random_state=123)\n",
    "    \n",
    "    # Fit the model (on train)\n",
    "        forest = forest.fit(X_train, y_train)\n",
    "        in_sample = forest.score(X_train, y_train)\n",
    "        y_pred = forest.predict(X_train)\n",
    "\n",
    "    # Add to matrix_results_2d which is the report we'll look at\n",
    "        result = pd.DataFrame(confusion_matrix(y_train, y_pred))\n",
    "        results = matrix_result_2d(result)\n",
    "        results['depth,leaves'] = (i,j)\n",
    "\n",
    "    # Do a quick validation fit and score just to see how the change in each hyperparameter effects overfit\n",
    "        out_of_sample = forest.score(X_validate, y_validate)\n",
    "        results['fit'] = in_sample - out_of_sample\n",
    "    \n",
    "        forest_metrics.append(results)\n",
    "\n",
    "df_forest_results = pd.DataFrame(forest_metrics).round(2).set_index('depth,leaves')\n",
    "pd.set_option(\"max_rows\", None)\n",
    "df_forest_results"
   ]
  },
  {
   "cell_type": "markdown",
   "id": "baf9f9a8",
   "metadata": {},
   "source": [
    "#### Fit and precision are optimized at depth = 7, leaves = 6."
   ]
  },
  {
   "cell_type": "markdown",
   "id": "93ba633e",
   "metadata": {},
   "source": [
    "### KNN Hyperparameter Tuning"
   ]
  },
  {
   "cell_type": "code",
   "execution_count": null,
   "id": "aa8760a5",
   "metadata": {},
   "outputs": [],
   "source": [
    "from sklearn.neighbors import KNeighborsClassifier\n",
    "# knn with multiple hypers\n",
    "knn_metrics = []\n",
    "\n",
    "for i in range(1,25):\n",
    "    knn = KNeighborsClassifier(n_neighbors = i)\n",
    "\n",
    "# Fit the model (on train)\n",
    "    knn = knn.fit(X_train, y_train)\n",
    "    in_sample = knn.score(X_train, y_train)\n",
    "    y_pred = knn.predict(X_train)\n",
    "\n",
    "# Add to matrix_results_2d which is the report we'll look at\n",
    "    result = pd.DataFrame(confusion_matrix(y_train, y_pred))\n",
    "    results = matrix_result_2d(result)\n",
    "    results['neighbors'] = i\n",
    "\n",
    "# Do a quick validation fit and score just to see how the change in each hyperparameter effects overfit\n",
    "    out_of_sample = knn.score(X_validate, y_validate)\n",
    "    results['fit'] = in_sample - out_of_sample\n",
    "    \n",
    "    knn_metrics.append(results)\n",
    "\n",
    "df_knn_results = pd.DataFrame(knn_metrics).round(2).set_index('neighbors')\n",
    "df_knn_results"
   ]
  },
  {
   "cell_type": "markdown",
   "id": "cfcc8df4",
   "metadata": {},
   "source": [
    "#### 15 neighbors optimizes for precision and fit."
   ]
  },
  {
   "cell_type": "markdown",
   "id": "3e58f10f",
   "metadata": {},
   "source": [
    "### Logistical Regression (only used default)"
   ]
  },
  {
   "cell_type": "code",
   "execution_count": null,
   "id": "43bf70e6",
   "metadata": {},
   "outputs": [],
   "source": [
    "# log reg\n",
    "from sklearn.linear_model import LogisticRegression\n",
    "\n",
    "logit = LogisticRegression()\n",
    "\n",
    "logit = logit.fit(X_train, y_train)\n",
    "in_sample = logit.score(X_train, y_train)\n",
    "y_pred = logit.predict(X_train)\n",
    "\n",
    "result = pd.DataFrame(confusion_matrix(y_train, y_pred))\n",
    "results = matrix_result_2d(result, output='print')"
   ]
  },
  {
   "cell_type": "code",
   "execution_count": null,
   "id": "b920f599",
   "metadata": {},
   "outputs": [],
   "source": [
    "#test logit on out of sample\n",
    "y_pred = logit.predict(X_validate)\n",
    "result = pd.DataFrame(confusion_matrix(y_validate, y_pred))\n",
    "results = matrix_result_2d(result, output='print')"
   ]
  }
 ],
 "metadata": {
  "kernelspec": {
   "display_name": "Python 3 (ipykernel)",
   "language": "python",
   "name": "python3"
  },
  "language_info": {
   "codemirror_mode": {
    "name": "ipython",
    "version": 3
   },
   "file_extension": ".py",
   "mimetype": "text/x-python",
   "name": "python",
   "nbconvert_exporter": "python",
   "pygments_lexer": "ipython3",
   "version": "3.9.7"
  }
 },
 "nbformat": 4,
 "nbformat_minor": 5
}
